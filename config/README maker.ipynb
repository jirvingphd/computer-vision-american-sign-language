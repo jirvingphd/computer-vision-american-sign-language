{
 "cells": [
  {
   "cell_type": "markdown",
   "metadata": {},
   "source": [
    "# README MAKER"
   ]
  },
  {
   "cell_type": "markdown",
   "metadata": {},
   "source": [
    "## Admin/Prep"
   ]
  },
  {
   "cell_type": "code",
   "execution_count": 1,
   "metadata": {
    "execution": {
     "iopub.execute_input": "2024-06-05T23:34:44.374361Z",
     "iopub.status.busy": "2024-06-05T23:34:44.374148Z",
     "iopub.status.idle": "2024-06-05T23:34:44.380715Z",
     "shell.execute_reply": "2024-06-05T23:34:44.380452Z",
     "shell.execute_reply.started": "2024-06-05T23:34:44.374342Z"
    }
   },
   "outputs": [
    {
     "data": {
      "text/plain": [
       "'/Users/codingdojo/Documents/GitHub/_MY_PROJECTS/computer-vision-american-sign-language'"
      ]
     },
     "execution_count": 1,
     "metadata": {},
     "output_type": "execute_result"
    }
   ],
   "source": [
    "# Chagne dir to match final README location\n",
    "import os\n",
    "if '.git' not in os.listdir():\n",
    "    os.chdir(\"../\")\n",
    "os.getcwd()"
   ]
  },
  {
   "cell_type": "code",
   "execution_count": 2,
   "metadata": {
    "execution": {
     "iopub.execute_input": "2024-06-05T23:34:44.381616Z",
     "iopub.status.busy": "2024-06-05T23:34:44.381476Z",
     "iopub.status.idle": "2024-06-05T23:34:44.384777Z",
     "shell.execute_reply": "2024-06-05T23:34:44.384461Z",
     "shell.execute_reply.started": "2024-06-05T23:34:44.381605Z"
    }
   },
   "outputs": [
    {
     "data": {
      "text/plain": [
       "dict_keys(['data', 'images', 'eda', 'modeling', 'readme'])"
      ]
     },
     "execution_count": 2,
     "metadata": {},
     "output_type": "execute_result"
    }
   ],
   "source": [
    "import os, json\n",
    "from IPython.display import Markdown\n",
    "\n",
    "config_file =\"config/filepaths.json\"\n",
    "with open(config_file) as f:\n",
    "    FPATHS = json.load(f)\n",
    "FPATHS.keys()"
   ]
  },
  {
   "cell_type": "code",
   "execution_count": 3,
   "metadata": {
    "execution": {
     "iopub.execute_input": "2024-06-05T23:34:44.385456Z",
     "iopub.status.busy": "2024-06-05T23:34:44.385284Z",
     "iopub.status.idle": "2024-06-05T23:34:44.388933Z",
     "shell.execute_reply": "2024-06-05T23:34:44.388644Z",
     "shell.execute_reply.started": "2024-06-05T23:34:44.385439Z"
    }
   },
   "outputs": [
    {
     "data": {
      "text/plain": [
       "{'results_table_md': 'modeling/results_table.md',\n",
       " 'Part01-intro_md': 'config/readme_part1_intro.md',\n",
       " 'Part02-model': 'config/readme_part2_results.md',\n",
       " 'Part03-explain': 'config/readme_part3_lime_explanations.md',\n",
       " 'Part04-conclusion': 'config/readme_part4_conclusion.md'}"
      ]
     },
     "execution_count": 3,
     "metadata": {},
     "output_type": "execute_result"
    }
   ],
   "source": [
    "FPATHS['readme']"
   ]
  },
  {
   "cell_type": "code",
   "execution_count": 4,
   "metadata": {
    "execution": {
     "iopub.execute_input": "2024-06-05T23:34:44.390188Z",
     "iopub.status.busy": "2024-06-05T23:34:44.390075Z",
     "iopub.status.idle": "2024-06-05T23:34:47.825089Z",
     "shell.execute_reply": "2024-06-05T23:34:47.824746Z",
     "shell.execute_reply.started": "2024-06-05T23:34:44.390177Z"
    }
   },
   "outputs": [],
   "source": [
    "# Custom functions:\n",
    "%load_ext autoreload\n",
    "%autoreload 2\n",
    "# sys.path.append(os.path.abspath(\"../../\"))\n",
    "import custom_functions as cf\n",
    "# dir(cf)"
   ]
  },
  {
   "cell_type": "markdown",
   "metadata": {},
   "source": [
    "### Prepare Results Table"
   ]
  },
  {
   "cell_type": "code",
   "execution_count": 5,
   "metadata": {
    "execution": {
     "iopub.execute_input": "2024-06-05T23:34:47.825781Z",
     "iopub.status.busy": "2024-06-05T23:34:47.825550Z",
     "iopub.status.idle": "2024-06-05T23:34:47.863718Z",
     "shell.execute_reply": "2024-06-05T23:34:47.863377Z",
     "shell.execute_reply.started": "2024-06-05T23:34:47.825770Z"
    }
   },
   "outputs": [
    {
     "name": "stdout",
     "output_type": "stream",
     "text": [
      "\n",
      "[i] Saved parsed logs to modeling/nn_training.csv\n"
     ]
    },
    {
     "data": {
      "text/html": [
       "<div>\n",
       "<style scoped>\n",
       "    .dataframe tbody tr th:only-of-type {\n",
       "        vertical-align: middle;\n",
       "    }\n",
       "\n",
       "    .dataframe tbody tr th {\n",
       "        vertical-align: top;\n",
       "    }\n",
       "\n",
       "    .dataframe thead th {\n",
       "        text-align: right;\n",
       "    }\n",
       "</style>\n",
       "<table border=\"1\" class=\"dataframe\">\n",
       "  <thead>\n",
       "    <tr style=\"text-align: right;\">\n",
       "      <th></th>\n",
       "      <th>Start Time</th>\n",
       "      <th>Name</th>\n",
       "      <th>Precision</th>\n",
       "      <th>Recall</th>\n",
       "      <th>F1-Score</th>\n",
       "      <th>Accuracy</th>\n",
       "      <th>Save Classification Report Fpath</th>\n",
       "      <th>Save History Fpath</th>\n",
       "      <th>Save Confusion Matrix Fpath</th>\n",
       "      <th>Fit Time</th>\n",
       "      <th>Model Save Fpath</th>\n",
       "    </tr>\n",
       "    <tr>\n",
       "      <th>Rank</th>\n",
       "      <th></th>\n",
       "      <th></th>\n",
       "      <th></th>\n",
       "      <th></th>\n",
       "      <th></th>\n",
       "      <th></th>\n",
       "      <th></th>\n",
       "      <th></th>\n",
       "      <th></th>\n",
       "      <th></th>\n",
       "      <th></th>\n",
       "    </tr>\n",
       "  </thead>\n",
       "  <tbody>\n",
       "    <tr>\n",
       "      <th>4</th>\n",
       "      <td>06/05/2024 16:35:35</td>\n",
       "      <td>towards-data-science-blog</td>\n",
       "      <td>0.488</td>\n",
       "      <td>0.444</td>\n",
       "      <td>0.433</td>\n",
       "      <td>0.452</td>\n",
       "      <td>modeling/models/towards-data-science-blog/clas...</td>\n",
       "      <td>modeling/models/towards-data-science-blog/hist...</td>\n",
       "      <td>modeling/models/towards-data-science-blog/conf...</td>\n",
       "      <td>0:01:14.607511</td>\n",
       "      <td>modeling/models/towards-data-science-blog</td>\n",
       "    </tr>\n",
       "    <tr>\n",
       "      <th>3</th>\n",
       "      <td>06/05/2024 16:36:57</td>\n",
       "      <td>cnn1-fixed-lr</td>\n",
       "      <td>0.499</td>\n",
       "      <td>0.471</td>\n",
       "      <td>0.456</td>\n",
       "      <td>0.482</td>\n",
       "      <td>modeling/models/cnn1-fixed-lr/classification_r...</td>\n",
       "      <td>modeling/models/cnn1-fixed-lr/history.png</td>\n",
       "      <td>modeling/models/cnn1-fixed-lr/confusion_matrix...</td>\n",
       "      <td>0:00:27.681576</td>\n",
       "      <td>modeling/models/cnn1-fixed-lr</td>\n",
       "    </tr>\n",
       "    <tr>\n",
       "      <th>5</th>\n",
       "      <td>06/05/2024 16:37:30</td>\n",
       "      <td>cnn1-scheduled-lr</td>\n",
       "      <td>0.002</td>\n",
       "      <td>0.038</td>\n",
       "      <td>0.003</td>\n",
       "      <td>0.039</td>\n",
       "      <td>modeling/models/cnn1-scheduled-lr/classificati...</td>\n",
       "      <td>modeling/models/cnn1-scheduled-lr/history.png</td>\n",
       "      <td>modeling/models/cnn1-scheduled-lr/confusion_ma...</td>\n",
       "      <td>0:00:19.401393</td>\n",
       "      <td>modeling/models/cnn1-scheduled-lr</td>\n",
       "    </tr>\n",
       "    <tr>\n",
       "      <th>2</th>\n",
       "      <td>06/05/2024 16:37:56</td>\n",
       "      <td>VGG16-01</td>\n",
       "      <td>0.654</td>\n",
       "      <td>0.612</td>\n",
       "      <td>0.599</td>\n",
       "      <td>0.614</td>\n",
       "      <td>modeling/models/VGG16-01/classification_report...</td>\n",
       "      <td>modeling/models/VGG16-01/history.png</td>\n",
       "      <td>modeling/models/VGG16-01/confusion_matrix.png</td>\n",
       "      <td>0:01:19.377717</td>\n",
       "      <td>modeling/models/VGG16-01</td>\n",
       "    </tr>\n",
       "    <tr>\n",
       "      <th>1</th>\n",
       "      <td>06/05/2024 16:39:27</td>\n",
       "      <td>EfficientNetB0-1</td>\n",
       "      <td>0.747</td>\n",
       "      <td>0.733</td>\n",
       "      <td>0.715</td>\n",
       "      <td>0.732</td>\n",
       "      <td>modeling/models/EfficientNetB0-1/classificatio...</td>\n",
       "      <td>modeling/models/EfficientNetB0-1/history.png</td>\n",
       "      <td>modeling/models/EfficientNetB0-1/confusion_mat...</td>\n",
       "      <td>0:01:24.104776</td>\n",
       "      <td>modeling/models/EfficientNetB0-1</td>\n",
       "    </tr>\n",
       "  </tbody>\n",
       "</table>\n",
       "</div>"
      ],
      "text/plain": [
       "               Start Time                       Name  Precision  Recall  \\\n",
       "Rank                                                                      \n",
       "4     06/05/2024 16:35:35  towards-data-science-blog      0.488   0.444   \n",
       "3     06/05/2024 16:36:57              cnn1-fixed-lr      0.499   0.471   \n",
       "5     06/05/2024 16:37:30          cnn1-scheduled-lr      0.002   0.038   \n",
       "2     06/05/2024 16:37:56                   VGG16-01      0.654   0.612   \n",
       "1     06/05/2024 16:39:27           EfficientNetB0-1      0.747   0.733   \n",
       "\n",
       "      F1-Score  Accuracy                   Save Classification Report Fpath  \\\n",
       "Rank                                                                          \n",
       "4        0.433     0.452  modeling/models/towards-data-science-blog/clas...   \n",
       "3        0.456     0.482  modeling/models/cnn1-fixed-lr/classification_r...   \n",
       "5        0.003     0.039  modeling/models/cnn1-scheduled-lr/classificati...   \n",
       "2        0.599     0.614  modeling/models/VGG16-01/classification_report...   \n",
       "1        0.715     0.732  modeling/models/EfficientNetB0-1/classificatio...   \n",
       "\n",
       "                                     Save History Fpath  \\\n",
       "Rank                                                      \n",
       "4     modeling/models/towards-data-science-blog/hist...   \n",
       "3             modeling/models/cnn1-fixed-lr/history.png   \n",
       "5         modeling/models/cnn1-scheduled-lr/history.png   \n",
       "2                  modeling/models/VGG16-01/history.png   \n",
       "1          modeling/models/EfficientNetB0-1/history.png   \n",
       "\n",
       "                            Save Confusion Matrix Fpath        Fit Time  \\\n",
       "Rank                                                                      \n",
       "4     modeling/models/towards-data-science-blog/conf...  0:01:14.607511   \n",
       "3     modeling/models/cnn1-fixed-lr/confusion_matrix...  0:00:27.681576   \n",
       "5     modeling/models/cnn1-scheduled-lr/confusion_ma...  0:00:19.401393   \n",
       "2         modeling/models/VGG16-01/confusion_matrix.png  0:01:19.377717   \n",
       "1     modeling/models/EfficientNetB0-1/confusion_mat...  0:01:24.104776   \n",
       "\n",
       "                               Model Save Fpath  \n",
       "Rank                                             \n",
       "4     modeling/models/towards-data-science-blog  \n",
       "3                 modeling/models/cnn1-fixed-lr  \n",
       "5             modeling/models/cnn1-scheduled-lr  \n",
       "2                      modeling/models/VGG16-01  \n",
       "1              modeling/models/EfficientNetB0-1  "
      ]
     },
     "execution_count": 5,
     "metadata": {},
     "output_type": "execute_result"
    }
   ],
   "source": [
    "logs_df = cf.logs.parse_log_file(FPATHS['modeling']['results_log'],clean_results=True, remove_fpaths=False)\n",
    "logs_df.insert(0,'Rank',logs_df['Accuracy'].rank(ascending=False).astype(int))\n",
    "logs_df = logs_df.set_index(\"Rank\")\n",
    "logs_df\n",
    "logs_df\n"
   ]
  },
  {
   "cell_type": "code",
   "execution_count": 6,
   "metadata": {
    "execution": {
     "iopub.execute_input": "2024-06-05T23:34:47.864412Z",
     "iopub.status.busy": "2024-06-05T23:34:47.864299Z",
     "iopub.status.idle": "2024-06-05T23:34:47.889899Z",
     "shell.execute_reply": "2024-06-05T23:34:47.889529Z",
     "shell.execute_reply.started": "2024-06-05T23:34:47.864401Z"
    }
   },
   "outputs": [
    {
     "data": {
      "text/plain": [
       "Start Time                                                        06/05/2024 16:39:27\n",
       "Name                                                                 EfficientNetB0-1\n",
       "Precision                                                                       0.747\n",
       "Recall                                                                          0.733\n",
       "F1-Score                                                                        0.715\n",
       "Accuracy                                                                        0.732\n",
       "Save Classification Report Fpath    modeling/models/EfficientNetB0-1/classificatio...\n",
       "Save History Fpath                       modeling/models/EfficientNetB0-1/history.png\n",
       "Save Confusion Matrix Fpath         modeling/models/EfficientNetB0-1/confusion_mat...\n",
       "Fit Time                                                               0:01:24.104776\n",
       "Model Save Fpath                                     modeling/models/EfficientNetB0-1\n",
       "Name: 1, dtype: object"
      ]
     },
     "execution_count": 6,
     "metadata": {},
     "output_type": "execute_result"
    }
   ],
   "source": [
    "best_model = logs_df.loc[1]\n",
    "best_model"
   ]
  },
  {
   "cell_type": "code",
   "execution_count": null,
   "metadata": {},
   "outputs": [],
   "source": []
  },
  {
   "cell_type": "code",
   "execution_count": 7,
   "metadata": {
    "execution": {
     "iopub.execute_input": "2024-06-05T23:34:47.890579Z",
     "iopub.status.busy": "2024-06-05T23:34:47.890464Z",
     "iopub.status.idle": "2024-06-05T23:34:47.923087Z",
     "shell.execute_reply": "2024-06-05T23:34:47.922769Z",
     "shell.execute_reply.started": "2024-06-05T23:34:47.890568Z"
    }
   },
   "outputs": [
    {
     "name": "stdout",
     "output_type": "stream",
     "text": [
      "\n",
      "[i] Saved parsed logs to modeling/nn_training.csv\n"
     ]
    },
    {
     "data": {
      "text/html": [
       "<div>\n",
       "<style scoped>\n",
       "    .dataframe tbody tr th:only-of-type {\n",
       "        vertical-align: middle;\n",
       "    }\n",
       "\n",
       "    .dataframe tbody tr th {\n",
       "        vertical-align: top;\n",
       "    }\n",
       "\n",
       "    .dataframe thead th {\n",
       "        text-align: right;\n",
       "    }\n",
       "</style>\n",
       "<table border=\"1\" class=\"dataframe\">\n",
       "  <thead>\n",
       "    <tr style=\"text-align: right;\">\n",
       "      <th></th>\n",
       "      <th>Rank</th>\n",
       "      <th>Name</th>\n",
       "      <th>Precision</th>\n",
       "      <th>Recall</th>\n",
       "      <th>F1-Score</th>\n",
       "      <th>Accuracy</th>\n",
       "      <th>Fit Time</th>\n",
       "      <th>Model Save Fpath</th>\n",
       "    </tr>\n",
       "  </thead>\n",
       "  <tbody>\n",
       "    <tr>\n",
       "      <th>4</th>\n",
       "      <td>1</td>\n",
       "      <td>EfficientNetB0-1</td>\n",
       "      <td>0.747</td>\n",
       "      <td>0.733</td>\n",
       "      <td>0.715</td>\n",
       "      <td>0.732</td>\n",
       "      <td>0:01:24.104776</td>\n",
       "      <td>modeling/models/EfficientNetB0-1</td>\n",
       "    </tr>\n",
       "    <tr>\n",
       "      <th>3</th>\n",
       "      <td>2</td>\n",
       "      <td>VGG16-01</td>\n",
       "      <td>0.654</td>\n",
       "      <td>0.612</td>\n",
       "      <td>0.599</td>\n",
       "      <td>0.614</td>\n",
       "      <td>0:01:19.377717</td>\n",
       "      <td>modeling/models/VGG16-01</td>\n",
       "    </tr>\n",
       "    <tr>\n",
       "      <th>1</th>\n",
       "      <td>3</td>\n",
       "      <td>cnn1-fixed-lr</td>\n",
       "      <td>0.499</td>\n",
       "      <td>0.471</td>\n",
       "      <td>0.456</td>\n",
       "      <td>0.482</td>\n",
       "      <td>0:00:27.681576</td>\n",
       "      <td>modeling/models/cnn1-fixed-lr</td>\n",
       "    </tr>\n",
       "    <tr>\n",
       "      <th>0</th>\n",
       "      <td>4</td>\n",
       "      <td>towards-data-science-blog</td>\n",
       "      <td>0.488</td>\n",
       "      <td>0.444</td>\n",
       "      <td>0.433</td>\n",
       "      <td>0.452</td>\n",
       "      <td>0:01:14.607511</td>\n",
       "      <td>modeling/models/towards-data-science-blog</td>\n",
       "    </tr>\n",
       "    <tr>\n",
       "      <th>2</th>\n",
       "      <td>5</td>\n",
       "      <td>cnn1-scheduled-lr</td>\n",
       "      <td>0.002</td>\n",
       "      <td>0.038</td>\n",
       "      <td>0.003</td>\n",
       "      <td>0.039</td>\n",
       "      <td>0:00:19.401393</td>\n",
       "      <td>modeling/models/cnn1-scheduled-lr</td>\n",
       "    </tr>\n",
       "  </tbody>\n",
       "</table>\n",
       "</div>"
      ],
      "text/plain": [
       "   Rank                       Name  Precision  Recall  F1-Score  Accuracy  \\\n",
       "4     1           EfficientNetB0-1      0.747   0.733     0.715     0.732   \n",
       "3     2                   VGG16-01      0.654   0.612     0.599     0.614   \n",
       "1     3              cnn1-fixed-lr      0.499   0.471     0.456     0.482   \n",
       "0     4  towards-data-science-blog      0.488   0.444     0.433     0.452   \n",
       "2     5          cnn1-scheduled-lr      0.002   0.038     0.003     0.039   \n",
       "\n",
       "         Fit Time                           Model Save Fpath  \n",
       "4  0:01:24.104776           modeling/models/EfficientNetB0-1  \n",
       "3  0:01:19.377717                   modeling/models/VGG16-01  \n",
       "1  0:00:27.681576              modeling/models/cnn1-fixed-lr  \n",
       "0  0:01:14.607511  modeling/models/towards-data-science-blog  \n",
       "2  0:00:19.401393          modeling/models/cnn1-scheduled-lr  "
      ]
     },
     "execution_count": 7,
     "metadata": {},
     "output_type": "execute_result"
    }
   ],
   "source": [
    "## PREPARE README TABLE\n",
    "logs_df = cf.logs.parse_log_file(FPATHS['modeling']['results_log'])\n",
    "# logs_df = parse_log_file(log_file,clean_results=True      )\n",
    "readme_logs = logs_df.drop(columns=['Start Time'], errors='ignore')\n",
    "readme_logs = readme_logs.sort_values('Accuracy', ascending=False)\n",
    "readme_logs.insert(0,'Rank',readme_logs['Accuracy'].rank(ascending=False).astype(int))\n",
    "# readme_logs = readme_logs.set_index(['Rank','Name'])\n",
    "readme_logs"
   ]
  },
  {
   "cell_type": "code",
   "execution_count": 8,
   "metadata": {
    "execution": {
     "iopub.execute_input": "2024-06-05T23:34:47.923856Z",
     "iopub.status.busy": "2024-06-05T23:34:47.923710Z",
     "iopub.status.idle": "2024-06-05T23:34:47.947690Z",
     "shell.execute_reply": "2024-06-05T23:34:47.947330Z",
     "shell.execute_reply.started": "2024-06-05T23:34:47.923845Z"
    }
   },
   "outputs": [],
   "source": [
    "# # Save best model results as vars\n",
    "# classification_logs_df.loc[1]"
   ]
  },
  {
   "cell_type": "code",
   "execution_count": null,
   "metadata": {},
   "outputs": [],
   "source": []
  },
  {
   "cell_type": "code",
   "execution_count": 10,
   "metadata": {
    "execution": {
     "iopub.execute_input": "2024-06-05T23:34:51.900014Z",
     "iopub.status.busy": "2024-06-05T23:34:51.899821Z",
     "iopub.status.idle": "2024-06-05T23:34:51.930097Z",
     "shell.execute_reply": "2024-06-05T23:34:51.929760Z",
     "shell.execute_reply.started": "2024-06-05T23:34:51.900000Z"
    }
   },
   "outputs": [
    {
     "data": {
      "text/markdown": [
       "|   Rank | Name                      |   Precision |   Recall |   F1-Score |   Accuracy | Fit Time       | Model Save Fpath                          |\n",
       "|-------:|:--------------------------|------------:|---------:|-----------:|-----------:|:---------------|:------------------------------------------|\n",
       "|      1 | EfficientNetB0-1          |       0.747 |    0.733 |      0.715 |      0.732 | 0:01:24.104776 | modeling/models/EfficientNetB0-1          |\n",
       "|      2 | VGG16-01                  |       0.654 |    0.612 |      0.599 |      0.614 | 0:01:19.377717 | modeling/models/VGG16-01                  |\n",
       "|      3 | cnn1-fixed-lr             |       0.499 |    0.471 |      0.456 |      0.482 | 0:00:27.681576 | modeling/models/cnn1-fixed-lr             |\n",
       "|      4 | towards-data-science-blog |       0.488 |    0.444 |      0.433 |      0.452 | 0:01:14.607511 | modeling/models/towards-data-science-blog |\n",
       "|      5 | cnn1-scheduled-lr         |       0.002 |    0.038 |      0.003 |      0.039 | 0:00:19.401393 | modeling/models/cnn1-scheduled-lr         |"
      ],
      "text/plain": [
       "<IPython.core.display.Markdown object>"
      ]
     },
     "metadata": {},
     "output_type": "display_data"
    }
   ],
   "source": [
    "## save readme lgos\n",
    "results_md_file = FPATHS['readme']['results_table_md']\n",
    "readme_logs.to_markdown(results_md_file, index=False)\n",
    "\n",
    "with open(results_md_file,'r') as f:\n",
    "    display(Markdown(f.read()))"
   ]
  },
  {
   "cell_type": "markdown",
   "metadata": {},
   "source": [
    "### Save Figures for f-strings"
   ]
  },
  {
   "cell_type": "code",
   "execution_count": 11,
   "metadata": {
    "execution": {
     "iopub.execute_input": "2024-06-05T23:34:53.632305Z",
     "iopub.status.busy": "2024-06-05T23:34:53.632087Z",
     "iopub.status.idle": "2024-06-05T23:34:53.659060Z",
     "shell.execute_reply": "2024-06-05T23:34:53.658594Z",
     "shell.execute_reply.started": "2024-06-05T23:34:53.632291Z"
    }
   },
   "outputs": [
    {
     "data": {
      "text/plain": [
       "{'label-distrubtion-countplot_png': 'images/label-distribution-countplot.png',\n",
       " 'test-labels-distrubtion_png': 'images/test-label-distribution-countplot.png',\n",
       " 'example-images_png': 'images/ed_example_letters.png'}"
      ]
     },
     "execution_count": 11,
     "metadata": {},
     "output_type": "execute_result"
    }
   ],
   "source": [
    "FPATHS['eda']"
   ]
  },
  {
   "cell_type": "code",
   "execution_count": 12,
   "metadata": {
    "execution": {
     "iopub.execute_input": "2024-06-05T23:34:55.193968Z",
     "iopub.status.busy": "2024-06-05T23:34:55.193760Z",
     "iopub.status.idle": "2024-06-05T23:34:55.223223Z",
     "shell.execute_reply": "2024-06-05T23:34:55.222886Z",
     "shell.execute_reply.started": "2024-06-05T23:34:55.193954Z"
    }
   },
   "outputs": [
    {
     "name": "stdout",
     "output_type": "stream",
     "text": [
      "images/ed_example_letters.png images/label-distribution-countplot.png\n"
     ]
    }
   ],
   "source": [
    "# Save figure fpaths for f-strings\n",
    "eda_class_balance = FPATHS['eda']['label-distrubtion-countplot_png']\n",
    "eda_example_letters = FPATHS['eda']['example-images_png']\n",
    "print(eda_example_letters, eda_class_balance)"
   ]
  },
  {
   "cell_type": "code",
   "execution_count": 13,
   "metadata": {
    "execution": {
     "iopub.execute_input": "2024-06-05T23:34:55.900979Z",
     "iopub.status.busy": "2024-06-05T23:34:55.900797Z",
     "iopub.status.idle": "2024-06-05T23:34:55.935788Z",
     "shell.execute_reply": "2024-06-05T23:34:55.935433Z",
     "shell.execute_reply.started": "2024-06-05T23:34:55.900968Z"
    }
   },
   "outputs": [
    {
     "data": {
      "text/plain": [
       "'/Users/codingdojo/Documents/GitHub/_MY_PROJECTS/computer-vision-american-sign-language'"
      ]
     },
     "execution_count": 13,
     "metadata": {},
     "output_type": "execute_result"
    }
   ],
   "source": [
    "os.getcwd()"
   ]
  },
  {
   "cell_type": "code",
   "execution_count": 14,
   "metadata": {
    "execution": {
     "iopub.execute_input": "2024-06-05T23:34:56.277456Z",
     "iopub.status.busy": "2024-06-05T23:34:56.277258Z",
     "iopub.status.idle": "2024-06-05T23:34:56.308927Z",
     "shell.execute_reply": "2024-06-05T23:34:56.306874Z",
     "shell.execute_reply.started": "2024-06-05T23:34:56.277444Z"
    }
   },
   "outputs": [
    {
     "data": {
      "text/plain": [
       "(True, True)"
      ]
     },
     "execution_count": 14,
     "metadata": {},
     "output_type": "execute_result"
    }
   ],
   "source": [
    "os.path.exists(eda_class_balance),os.path.exists(eda_example_letters)"
   ]
  },
  {
   "cell_type": "markdown",
   "metadata": {},
   "source": [
    "## README CONTENT"
   ]
  },
  {
   "cell_type": "code",
   "execution_count": 15,
   "metadata": {
    "execution": {
     "iopub.execute_input": "2024-06-05T23:34:57.316878Z",
     "iopub.status.busy": "2024-06-05T23:34:57.316694Z",
     "iopub.status.idle": "2024-06-05T23:34:57.344083Z",
     "shell.execute_reply": "2024-06-05T23:34:57.343635Z",
     "shell.execute_reply.started": "2024-06-05T23:34:57.316864Z"
    }
   },
   "outputs": [
    {
     "data": {
      "text/markdown": [
       "\n",
       "# computer-vision-american-sign-language\n",
       "\n",
       "-  Last Updated: 06/05/2024\n",
       "\n",
       "<center><img src=\"images/American_Sign_Language_ASL.svg\" width=500px>\n",
       "<p>By Psiĥedelisto - Own work, Public Domain, <a href=\"https://commons.wikimedia.org/w/index.php?curid=53652991\">\"https://commons.wikimedia.org/w/index.php?curid=53652991</a><p>\n",
       "</center>\n",
       "\n",
       "## Description\n",
       "\n",
       "This project aims to develop a computer vision system for American Sign Language (ASL) recognition. \n",
       "\n",
       "\n",
       "### Goals \n",
       "> - **The first/primary goal is to create a model that can classify images of letters from the ASL alphabet (26-class multi-classification)**\n",
       "- Create a streamlit application that will accept an image and predict which letter it is.\n",
       "\n",
       "> - **The second, above-and-beyond goal is to use video as the input and add object detection.**\n",
       "\n",
       "### Features\n",
       "\n",
       "- ASL letter and word translation\n",
       "- User-friendly interface\n",
       "- Support for multiple hand gestures\n",
       "\n",
       "<center><img src=\"images/Sign_language_alphabet_(58).png\" width=500px style=\"border:solid black 1px\"> \n",
       "\n",
       "<p><a href=\"https://commons.wikimedia.org/wiki/File:Sign_language_alphabet_(58).png\">Image Source</a> </p>\n",
       "<p> Raziakhatun12, CC BY-SA 4.0 <https://creativecommons.org/licenses/by-sa/4.0>, via Wikimedia Commons</p>\n",
       "\n",
       "</center>\n",
       "\n",
       "\n",
       "\n",
       "\n",
       "## Data\n",
       "\n",
       "### Source/Download\n",
       "- Public Dataset from [Roboflow](https://public.roboflow.com/object-detection/american-sign-language-letters)\n",
       "\n",
       "\n",
       "To download:\n",
       "- Navigate to https://public.roboflow.com/object-detection/american-sign-language-letters\n",
       "- Click `->` for Downloads.\n",
       "- Select Format =  Multi-Label Classifiction\n",
       "- Download zip to computer\n",
       "\n",
       "\n",
       "### Data Details\n",
       "- 26 letters of the alphabet\n",
       "- J and Z are gesture-based letters and will likely be difficult to classify using static images.\n",
       "\n",
       "- Number of Images: 1731\n",
       "- Size: 416 x  416 \n",
       "- Channels: 3\n",
       "\n",
       "Example of Each letter:\n",
       "\n",
       "<img src=\"images/ed_example_letters.png\">\n",
       "\n",
       "\n",
       "## EDA\n",
       "\n",
       "\n",
       "\n",
       "### Class Balance\n",
       "\n",
       "\n",
       "\n",
       "\n",
       "<img src=\"images/label-distribution-countplot.png\">\n",
       "\n",
       "\n",
       "\n",
       "### Methods\n",
       "\n",
       "\n",
       "- Loading Images as a Tensorflow Dataset object.\n",
       "    - Image size: 128 x 128\n",
       "    - Batch size: 32   \n",
       "    - No data augmentation due to nature of sign language.\n",
       "\n",
       "- Constructing Convolutional Neural Networks in tensorflow.\n",
       "- Applying transfer learning with pretrained models\n",
       "- Explain image classifications using  Lime's ImageExplainer.\n",
       "\n",
       "\n"
      ],
      "text/plain": [
       "<IPython.core.display.Markdown object>"
      ]
     },
     "execution_count": 15,
     "metadata": {},
     "output_type": "execute_result"
    }
   ],
   "source": [
    "import datetime as dt\n",
    "intro= f\"\"\"\n",
    "# computer-vision-american-sign-language\n",
    "\n",
    "-  Last Updated: {dt.date.today().strftime(\"%m/%d/%Y\")}\n",
    "\n",
    "<center><img src=\"images/American_Sign_Language_ASL.svg\" width=500px>\n",
    "<p>By Psiĥedelisto - Own work, Public Domain, <a href=\"https://commons.wikimedia.org/w/index.php?curid=53652991\">\"https://commons.wikimedia.org/w/index.php?curid=53652991</a><p>\n",
    "</center>\n",
    "\n",
    "## Description\n",
    "\n",
    "This project aims to develop a computer vision system for American Sign Language (ASL) recognition. \n",
    "\n",
    "\n",
    "### Goals \n",
    "> - **The first/primary goal is to create a model that can classify images of letters from the ASL alphabet (26-class multi-classification)**\n",
    "- Create a streamlit application that will accept an image and predict which letter it is.\n",
    "\n",
    "> - **The second, above-and-beyond goal is to use video as the input and add object detection.**\n",
    "\n",
    "### Features\n",
    "\n",
    "- ASL letter and word translation\n",
    "- User-friendly interface\n",
    "- Support for multiple hand gestures\n",
    "\n",
    "<center><img src=\"images/Sign_language_alphabet_(58).png\" width=500px style=\"border:solid black 1px\"> \n",
    "\n",
    "<p><a href=\"https://commons.wikimedia.org/wiki/File:Sign_language_alphabet_(58).png\">Image Source</a> </p>\n",
    "<p> Raziakhatun12, CC BY-SA 4.0 <https://creativecommons.org/licenses/by-sa/4.0>, via Wikimedia Commons</p>\n",
    "\n",
    "</center>\n",
    "\n",
    "\n",
    "\n",
    "\n",
    "## Data\n",
    "\n",
    "### Source/Download\n",
    "- Public Dataset from [Roboflow](https://public.roboflow.com/object-detection/american-sign-language-letters)\n",
    "\n",
    "\n",
    "To download:\n",
    "- Navigate to https://public.roboflow.com/object-detection/american-sign-language-letters\n",
    "- Click `->` for Downloads.\n",
    "- Select Format =  Multi-Label Classifiction\n",
    "- Download zip to computer\n",
    "\n",
    "\n",
    "### Data Details\n",
    "- 26 letters of the alphabet\n",
    "- J and Z are gesture-based letters and will likely be difficult to classify using static images.\n",
    "\n",
    "- Number of Images: 1731\n",
    "- Size: 416 x  416 \n",
    "- Channels: 3\n",
    "\n",
    "Example of Each letter:\n",
    "\n",
    "<img src=\"{eda_example_letters}\">\n",
    "\n",
    "\n",
    "## EDA\n",
    "\n",
    "\n",
    "\n",
    "### Class Balance\n",
    "\n",
    "\n",
    "\n",
    "\n",
    "<img src=\"{eda_class_balance}\">\n",
    "\n",
    "\n",
    "\n",
    "### Methods\n",
    "\n",
    "\n",
    "- Loading Images as a Tensorflow Dataset object.\n",
    "    - Image size: 128 x 128\n",
    "    - Batch size: 32   \n",
    "    - No data augmentation due to nature of sign language.\n",
    "\n",
    "- Constructing Convolutional Neural Networks in tensorflow.\n",
    "- Applying transfer learning with pretrained models\n",
    "- Explain image classifications using  Lime's ImageExplainer.\n",
    "\n",
    "\n",
    "\"\"\"\n",
    "\n",
    "# #### TO DO:\n",
    "\n",
    "# - [x] Apply transfer learning\n",
    "# - [x] Save best model for deployment\n",
    "# = [ x Apply LimeExplainer with best model.\n",
    "# - [ ] Tune the best architecture with keras tuner.\n",
    "# - [ ] Create a streamlit application for live inference.\n",
    "\n",
    "Markdown(intro)"
   ]
  },
  {
   "cell_type": "code",
   "execution_count": 16,
   "metadata": {
    "execution": {
     "iopub.execute_input": "2024-06-05T23:34:58.252780Z",
     "iopub.status.busy": "2024-06-05T23:34:58.252601Z",
     "iopub.status.idle": "2024-06-05T23:34:58.280440Z",
     "shell.execute_reply": "2024-06-05T23:34:58.280097Z",
     "shell.execute_reply.started": "2024-06-05T23:34:58.252769Z"
    }
   },
   "outputs": [
    {
     "data": {
      "text/markdown": [
       "\n",
       "# computer-vision-american-sign-language\n",
       "\n",
       "-  Last Updated: 06/05/2024\n",
       "\n",
       "<center><img src=\"images/American_Sign_Language_ASL.svg\" width=500px>\n",
       "<p>By Psiĥedelisto - Own work, Public Domain, <a href=\"https://commons.wikimedia.org/w/index.php?curid=53652991\">\"https://commons.wikimedia.org/w/index.php?curid=53652991</a><p>\n",
       "</center>\n",
       "\n",
       "## Description\n",
       "\n",
       "This project aims to develop a computer vision system for American Sign Language (ASL) recognition. \n",
       "\n",
       "\n",
       "### Goals \n",
       "> - **The first/primary goal is to create a model that can classify images of letters from the ASL alphabet (26-class multi-classification)**\n",
       "- Create a streamlit application that will accept an image and predict which letter it is.\n",
       "\n",
       "> - **The second, above-and-beyond goal is to use video as the input and add object detection.**\n",
       "\n",
       "### Features\n",
       "\n",
       "- ASL letter and word translation\n",
       "- User-friendly interface\n",
       "- Support for multiple hand gestures\n",
       "\n",
       "<center><img src=\"images/Sign_language_alphabet_(58).png\" width=500px style=\"border:solid black 1px\"> \n",
       "\n",
       "<p><a href=\"https://commons.wikimedia.org/wiki/File:Sign_language_alphabet_(58).png\">Image Source</a> </p>\n",
       "<p> Raziakhatun12, CC BY-SA 4.0 <https://creativecommons.org/licenses/by-sa/4.0>, via Wikimedia Commons</p>\n",
       "\n",
       "</center>\n",
       "\n",
       "\n",
       "\n",
       "\n",
       "## Data\n",
       "\n",
       "### Source/Download\n",
       "- Public Dataset from [Roboflow](https://public.roboflow.com/object-detection/american-sign-language-letters)\n",
       "\n",
       "\n",
       "To download:\n",
       "- Navigate to https://public.roboflow.com/object-detection/american-sign-language-letters\n",
       "- Click `->` for Downloads.\n",
       "- Select Format =  Multi-Label Classifiction\n",
       "- Download zip to computer\n",
       "\n",
       "\n",
       "### Data Details\n",
       "- 26 letters of the alphabet\n",
       "- J and Z are gesture-based letters and will likely be difficult to classify using static images.\n",
       "\n",
       "- Number of Images: 1731\n",
       "- Size: 416 x  416 \n",
       "- Channels: 3\n",
       "\n",
       "Example of Each letter:\n",
       "\n",
       "<img src=\"images/ed_example_letters.png\">\n",
       "\n",
       "\n",
       "## EDA\n",
       "\n",
       "\n",
       "\n",
       "### Class Balance\n",
       "\n",
       "\n",
       "\n",
       "\n",
       "<img src=\"images/label-distribution-countplot.png\">\n",
       "\n",
       "\n",
       "\n",
       "### Methods\n",
       "\n",
       "\n",
       "- Loading Images as a Tensorflow Dataset object.\n",
       "    - Image size: 128 x 128\n",
       "    - Batch size: 32   \n",
       "    - No data augmentation due to nature of sign language.\n",
       "\n",
       "- Constructing Convolutional Neural Networks in tensorflow.\n",
       "- Applying transfer learning with pretrained models\n",
       "- Explain image classifications using  Lime's ImageExplainer.\n",
       "\n",
       "\n"
      ],
      "text/plain": [
       "<IPython.core.display.Markdown object>"
      ]
     },
     "metadata": {},
     "output_type": "display_data"
    }
   ],
   "source": [
    "readme_part1_fpath = FPATHS['readme']['Part01-intro_md']#\"config/readme_part1.md\"\n",
    "\n",
    "with open(readme_part1_fpath, 'w') as f:\n",
    "    f.write(intro)\n",
    "\n",
    "with open(readme_part1_fpath) as f:\n",
    "\n",
    "    display(Markdown(f.read()))"
   ]
  },
  {
   "cell_type": "markdown",
   "metadata": {},
   "source": [
    "### Generate Resuls Programmatically from logs"
   ]
  },
  {
   "cell_type": "code",
   "execution_count": 17,
   "metadata": {
    "execution": {
     "iopub.execute_input": "2024-06-05T23:34:59.937510Z",
     "iopub.status.busy": "2024-06-05T23:34:59.937196Z",
     "iopub.status.idle": "2024-06-05T23:35:00.073731Z",
     "shell.execute_reply": "2024-06-05T23:35:00.073358Z",
     "shell.execute_reply.started": "2024-06-05T23:34:59.937494Z"
    }
   },
   "outputs": [],
   "source": [
    "# import pandas as pd\n",
    "# # pd.read_table(results_table_md)\n",
    "# readme_logs.set_index(\"Rank\")"
   ]
  },
  {
   "cell_type": "code",
   "execution_count": 18,
   "metadata": {
    "execution": {
     "iopub.execute_input": "2024-06-05T23:35:01.124389Z",
     "iopub.status.busy": "2024-06-05T23:35:01.124192Z",
     "iopub.status.idle": "2024-06-05T23:35:01.181734Z",
     "shell.execute_reply": "2024-06-05T23:35:01.181262Z",
     "shell.execute_reply.started": "2024-06-05T23:35:01.124375Z"
    }
   },
   "outputs": [
    {
     "data": {
      "text/plain": [
       "'|   Rank | Name                      |   Precision |   Recall |   F1-Score |   Accuracy | Fit Time       | Model Save Fpath                          |\\n|-------:|:--------------------------|------------:|---------:|-----------:|-----------:|:---------------|:------------------------------------------|\\n|      1 | EfficientNetB0-1          |       0.747 |    0.733 |      0.715 |      0.732 | 0:01:24.104776 | modeling/models/EfficientNetB0-1          |\\n|      2 | VGG16-01                  |       0.654 |    0.612 |      0.599 |      0.614 | 0:01:19.377717 | modeling/models/VGG16-01                  |\\n|      3 | cnn1-fixed-lr             |       0.499 |    0.471 |      0.456 |      0.482 | 0:00:27.681576 | modeling/models/cnn1-fixed-lr             |\\n|      4 | towards-data-science-blog |       0.488 |    0.444 |      0.433 |      0.452 | 0:01:14.607511 | modeling/models/towards-data-science-blog |\\n|      5 | cnn1-scheduled-lr         |       0.002 |    0.038 |      0.003 |      0.039 | 0:00:19.401393 | modeling/models/cnn1-scheduled-lr         |'"
      ]
     },
     "execution_count": 18,
     "metadata": {},
     "output_type": "execute_result"
    }
   ],
   "source": [
    "with open(results_md_file,'r') as f:\n",
    "    results_table_md = f.read()\n",
    "\n",
    "results_table_md"
   ]
  },
  {
   "cell_type": "code",
   "execution_count": null,
   "metadata": {},
   "outputs": [],
   "source": []
  },
  {
   "cell_type": "markdown",
   "metadata": {},
   "source": [
    "#### Saving Best Model"
   ]
  },
  {
   "cell_type": "code",
   "execution_count": 19,
   "metadata": {
    "execution": {
     "iopub.execute_input": "2024-06-05T23:35:12.897245Z",
     "iopub.status.busy": "2024-06-05T23:35:12.897026Z",
     "iopub.status.idle": "2024-06-05T23:35:13.010712Z",
     "shell.execute_reply": "2024-06-05T23:35:13.010369Z",
     "shell.execute_reply.started": "2024-06-05T23:35:12.897232Z"
    }
   },
   "outputs": [
    {
     "name": "stdout",
     "output_type": "stream",
     "text": [
      "\n",
      "[i] Saved parsed logs to modeling/nn_training.csv\n"
     ]
    },
    {
     "data": {
      "text/html": [
       "<div>\n",
       "<style scoped>\n",
       "    .dataframe tbody tr th:only-of-type {\n",
       "        vertical-align: middle;\n",
       "    }\n",
       "\n",
       "    .dataframe tbody tr th {\n",
       "        vertical-align: top;\n",
       "    }\n",
       "\n",
       "    .dataframe thead th {\n",
       "        text-align: right;\n",
       "    }\n",
       "</style>\n",
       "<table border=\"1\" class=\"dataframe\">\n",
       "  <thead>\n",
       "    <tr style=\"text-align: right;\">\n",
       "      <th></th>\n",
       "      <th>Start Time</th>\n",
       "      <th>Name</th>\n",
       "      <th>Precision</th>\n",
       "      <th>Recall</th>\n",
       "      <th>F1-Score</th>\n",
       "      <th>Accuracy</th>\n",
       "      <th>Save Classification Report Fpath</th>\n",
       "      <th>Save History Fpath</th>\n",
       "      <th>Save Confusion Matrix Fpath</th>\n",
       "      <th>Fit Time</th>\n",
       "      <th>Model Save Fpath</th>\n",
       "    </tr>\n",
       "    <tr>\n",
       "      <th>Rank</th>\n",
       "      <th></th>\n",
       "      <th></th>\n",
       "      <th></th>\n",
       "      <th></th>\n",
       "      <th></th>\n",
       "      <th></th>\n",
       "      <th></th>\n",
       "      <th></th>\n",
       "      <th></th>\n",
       "      <th></th>\n",
       "      <th></th>\n",
       "    </tr>\n",
       "  </thead>\n",
       "  <tbody>\n",
       "    <tr>\n",
       "      <th>4</th>\n",
       "      <td>06/05/2024 16:35:35</td>\n",
       "      <td>towards-data-science-blog</td>\n",
       "      <td>0.488</td>\n",
       "      <td>0.444</td>\n",
       "      <td>0.433</td>\n",
       "      <td>0.452</td>\n",
       "      <td>modeling/models/towards-data-science-blog/clas...</td>\n",
       "      <td>modeling/models/towards-data-science-blog/hist...</td>\n",
       "      <td>modeling/models/towards-data-science-blog/conf...</td>\n",
       "      <td>0:01:14.607511</td>\n",
       "      <td>modeling/models/towards-data-science-blog</td>\n",
       "    </tr>\n",
       "    <tr>\n",
       "      <th>3</th>\n",
       "      <td>06/05/2024 16:36:57</td>\n",
       "      <td>cnn1-fixed-lr</td>\n",
       "      <td>0.499</td>\n",
       "      <td>0.471</td>\n",
       "      <td>0.456</td>\n",
       "      <td>0.482</td>\n",
       "      <td>modeling/models/cnn1-fixed-lr/classification_r...</td>\n",
       "      <td>modeling/models/cnn1-fixed-lr/history.png</td>\n",
       "      <td>modeling/models/cnn1-fixed-lr/confusion_matrix...</td>\n",
       "      <td>0:00:27.681576</td>\n",
       "      <td>modeling/models/cnn1-fixed-lr</td>\n",
       "    </tr>\n",
       "    <tr>\n",
       "      <th>5</th>\n",
       "      <td>06/05/2024 16:37:30</td>\n",
       "      <td>cnn1-scheduled-lr</td>\n",
       "      <td>0.002</td>\n",
       "      <td>0.038</td>\n",
       "      <td>0.003</td>\n",
       "      <td>0.039</td>\n",
       "      <td>modeling/models/cnn1-scheduled-lr/classificati...</td>\n",
       "      <td>modeling/models/cnn1-scheduled-lr/history.png</td>\n",
       "      <td>modeling/models/cnn1-scheduled-lr/confusion_ma...</td>\n",
       "      <td>0:00:19.401393</td>\n",
       "      <td>modeling/models/cnn1-scheduled-lr</td>\n",
       "    </tr>\n",
       "    <tr>\n",
       "      <th>2</th>\n",
       "      <td>06/05/2024 16:37:56</td>\n",
       "      <td>VGG16-01</td>\n",
       "      <td>0.654</td>\n",
       "      <td>0.612</td>\n",
       "      <td>0.599</td>\n",
       "      <td>0.614</td>\n",
       "      <td>modeling/models/VGG16-01/classification_report...</td>\n",
       "      <td>modeling/models/VGG16-01/history.png</td>\n",
       "      <td>modeling/models/VGG16-01/confusion_matrix.png</td>\n",
       "      <td>0:01:19.377717</td>\n",
       "      <td>modeling/models/VGG16-01</td>\n",
       "    </tr>\n",
       "    <tr>\n",
       "      <th>1</th>\n",
       "      <td>06/05/2024 16:39:27</td>\n",
       "      <td>EfficientNetB0-1</td>\n",
       "      <td>0.747</td>\n",
       "      <td>0.733</td>\n",
       "      <td>0.715</td>\n",
       "      <td>0.732</td>\n",
       "      <td>modeling/models/EfficientNetB0-1/classificatio...</td>\n",
       "      <td>modeling/models/EfficientNetB0-1/history.png</td>\n",
       "      <td>modeling/models/EfficientNetB0-1/confusion_mat...</td>\n",
       "      <td>0:01:24.104776</td>\n",
       "      <td>modeling/models/EfficientNetB0-1</td>\n",
       "    </tr>\n",
       "  </tbody>\n",
       "</table>\n",
       "</div>"
      ],
      "text/plain": [
       "               Start Time                       Name  Precision  Recall  \\\n",
       "Rank                                                                      \n",
       "4     06/05/2024 16:35:35  towards-data-science-blog      0.488   0.444   \n",
       "3     06/05/2024 16:36:57              cnn1-fixed-lr      0.499   0.471   \n",
       "5     06/05/2024 16:37:30          cnn1-scheduled-lr      0.002   0.038   \n",
       "2     06/05/2024 16:37:56                   VGG16-01      0.654   0.612   \n",
       "1     06/05/2024 16:39:27           EfficientNetB0-1      0.747   0.733   \n",
       "\n",
       "      F1-Score  Accuracy                   Save Classification Report Fpath  \\\n",
       "Rank                                                                          \n",
       "4        0.433     0.452  modeling/models/towards-data-science-blog/clas...   \n",
       "3        0.456     0.482  modeling/models/cnn1-fixed-lr/classification_r...   \n",
       "5        0.003     0.039  modeling/models/cnn1-scheduled-lr/classificati...   \n",
       "2        0.599     0.614  modeling/models/VGG16-01/classification_report...   \n",
       "1        0.715     0.732  modeling/models/EfficientNetB0-1/classificatio...   \n",
       "\n",
       "                                     Save History Fpath  \\\n",
       "Rank                                                      \n",
       "4     modeling/models/towards-data-science-blog/hist...   \n",
       "3             modeling/models/cnn1-fixed-lr/history.png   \n",
       "5         modeling/models/cnn1-scheduled-lr/history.png   \n",
       "2                  modeling/models/VGG16-01/history.png   \n",
       "1          modeling/models/EfficientNetB0-1/history.png   \n",
       "\n",
       "                            Save Confusion Matrix Fpath        Fit Time  \\\n",
       "Rank                                                                      \n",
       "4     modeling/models/towards-data-science-blog/conf...  0:01:14.607511   \n",
       "3     modeling/models/cnn1-fixed-lr/confusion_matrix...  0:00:27.681576   \n",
       "5     modeling/models/cnn1-scheduled-lr/confusion_ma...  0:00:19.401393   \n",
       "2         modeling/models/VGG16-01/confusion_matrix.png  0:01:19.377717   \n",
       "1     modeling/models/EfficientNetB0-1/confusion_mat...  0:01:24.104776   \n",
       "\n",
       "                               Model Save Fpath  \n",
       "Rank                                             \n",
       "4     modeling/models/towards-data-science-blog  \n",
       "3                 modeling/models/cnn1-fixed-lr  \n",
       "5             modeling/models/cnn1-scheduled-lr  \n",
       "2                      modeling/models/VGG16-01  \n",
       "1              modeling/models/EfficientNetB0-1  "
      ]
     },
     "execution_count": 19,
     "metadata": {},
     "output_type": "execute_result"
    }
   ],
   "source": [
    "logs_df = cf.logs.parse_log_file(FPATHS['modeling']['results_log'],clean_results=True, remove_fpaths=False)\n",
    "logs_df.insert(0,'Rank',logs_df['Accuracy'].rank(ascending=False).astype(int))\n",
    "logs_df = logs_df.set_index(\"Rank\")\n",
    "logs_df\n",
    "logs_df\n"
   ]
  },
  {
   "cell_type": "code",
   "execution_count": 20,
   "metadata": {
    "execution": {
     "iopub.execute_input": "2024-06-05T23:35:20.985845Z",
     "iopub.status.busy": "2024-06-05T23:35:20.985656Z",
     "iopub.status.idle": "2024-06-05T23:35:21.124789Z",
     "shell.execute_reply": "2024-06-05T23:35:21.124489Z",
     "shell.execute_reply.started": "2024-06-05T23:35:20.985834Z"
    }
   },
   "outputs": [
    {
     "data": {
      "text/plain": [
       "Start Time                                                        06/05/2024 16:39:27\n",
       "Name                                                                 EfficientNetB0-1\n",
       "Precision                                                                       0.747\n",
       "Recall                                                                          0.733\n",
       "F1-Score                                                                        0.715\n",
       "Accuracy                                                                        0.732\n",
       "Save Classification Report Fpath    modeling/models/EfficientNetB0-1/classificatio...\n",
       "Save History Fpath                       modeling/models/EfficientNetB0-1/history.png\n",
       "Save Confusion Matrix Fpath         modeling/models/EfficientNetB0-1/confusion_mat...\n",
       "Fit Time                                                               0:01:24.104776\n",
       "Model Save Fpath                                     modeling/models/EfficientNetB0-1\n",
       "Name: 1, dtype: object"
      ]
     },
     "execution_count": 20,
     "metadata": {},
     "output_type": "execute_result"
    }
   ],
   "source": [
    "best_model = logs_df.loc[1]\n",
    "best_model"
   ]
  },
  {
   "cell_type": "code",
   "execution_count": 21,
   "metadata": {
    "execution": {
     "iopub.execute_input": "2024-06-05T23:35:22.046263Z",
     "iopub.status.busy": "2024-06-05T23:35:22.046067Z",
     "iopub.status.idle": "2024-06-05T23:35:22.075436Z",
     "shell.execute_reply": "2024-06-05T23:35:22.075015Z",
     "shell.execute_reply.started": "2024-06-05T23:35:22.046250Z"
    }
   },
   "outputs": [],
   "source": [
    "# os.getcwd()"
   ]
  },
  {
   "cell_type": "code",
   "execution_count": 22,
   "metadata": {
    "execution": {
     "iopub.execute_input": "2024-06-05T23:35:22.319150Z",
     "iopub.status.busy": "2024-06-05T23:35:22.318940Z",
     "iopub.status.idle": "2024-06-05T23:35:22.346152Z",
     "shell.execute_reply": "2024-06-05T23:35:22.345696Z",
     "shell.execute_reply.started": "2024-06-05T23:35:22.319137Z"
    }
   },
   "outputs": [],
   "source": [
    "# os.path.exists('modeling/models/towards-data-science_lr-schedule/classification_report.txt')"
   ]
  },
  {
   "cell_type": "code",
   "execution_count": 24,
   "metadata": {
    "execution": {
     "iopub.execute_input": "2024-06-05T23:35:48.742488Z",
     "iopub.status.busy": "2024-06-05T23:35:48.742194Z",
     "iopub.status.idle": "2024-06-05T23:35:58.938508Z",
     "shell.execute_reply": "2024-06-05T23:35:58.937983Z",
     "shell.execute_reply.started": "2024-06-05T23:35:48.742474Z"
    }
   },
   "outputs": [
    {
     "name": "stdout",
     "output_type": "stream",
     "text": [
      "Metal device set to: Apple M1 Pro\n"
     ]
    },
    {
     "data": {
      "text/plain": [
       "dict_keys(['classification_report', 'history_fig', 'confusion_matrix_fig', 'model'])"
      ]
     },
     "execution_count": 24,
     "metadata": {},
     "output_type": "execute_result"
    },
    {
     "data": {
      "image/png": "[encoded data removed]",
      "text/plain": [
       "<Figure size 640x480 with 1 Axes>"
      ]
     },
     "metadata": {},
     "output_type": "display_data"
    },
    {
     "data": {
      "image/png": "[encoded data removed]",
      "text/plain": [
       "<Figure size 640x480 with 1 Axes>"
      ]
     },
     "metadata": {},
     "output_type": "display_data"
    }
   ],
   "source": [
    "results = cf.logs.load_model_results(best_model['Model Save Fpath'])#best_model[\"Name\"], model_directory = FPATHS['modeling']['model_dir'],load_model=False)\n",
    "results.keys()"
   ]
  },
  {
   "cell_type": "code",
   "execution_count": 25,
   "metadata": {
    "execution": {
     "iopub.execute_input": "2024-06-05T23:35:58.939737Z",
     "iopub.status.busy": "2024-06-05T23:35:58.939550Z",
     "iopub.status.idle": "2024-06-05T23:35:58.964795Z",
     "shell.execute_reply": "2024-06-05T23:35:58.964380Z",
     "shell.execute_reply.started": "2024-06-05T23:35:58.939720Z"
    }
   },
   "outputs": [
    {
     "data": {
      "text/plain": [
       "'modeling/models/EfficientNetB0-1'"
      ]
     },
     "execution_count": 25,
     "metadata": {},
     "output_type": "execute_result"
    }
   ],
   "source": [
    "best_model['Model Save Fpath']"
   ]
  },
  {
   "cell_type": "code",
   "execution_count": 24,
   "metadata": {},
   "outputs": [],
   "source": [
    "# results = cf.logs.load_model_results()"
   ]
  },
  {
   "cell_type": "code",
   "execution_count": 26,
   "metadata": {
    "execution": {
     "iopub.execute_input": "2024-06-05T23:35:58.965851Z",
     "iopub.status.busy": "2024-06-05T23:35:58.965380Z",
     "iopub.status.idle": "2024-06-05T23:35:58.991609Z",
     "shell.execute_reply": "2024-06-05T23:35:58.991286Z",
     "shell.execute_reply.started": "2024-06-05T23:35:58.965833Z"
    }
   },
   "outputs": [
    {
     "data": {
      "text/plain": [
       "'modeling/models/EfficientNetB0-1/confusion_matrix.png'"
      ]
     },
     "execution_count": 26,
     "metadata": {},
     "output_type": "execute_result"
    }
   ],
   "source": [
    "best_model_name = best_model['Name']\n",
    "best_model_history_fpath= best_model['Save History Fpath']\n",
    "best_model_classification_report_fpath =best_model['Save Classification Report Fpath']\n",
    "with open(best_model_classification_report_fpath) as f:\n",
    "    \n",
    "    best_model_classification_report = f.read()\n",
    "    \n",
    "best_model_confusion_matrix_fpath =  best_model[\"Save Confusion Matrix Fpath\"]\n",
    "best_model_confusion_matrix_fpath"
   ]
  },
  {
   "cell_type": "code",
   "execution_count": 27,
   "metadata": {
    "execution": {
     "iopub.execute_input": "2024-06-05T23:36:01.578639Z",
     "iopub.status.busy": "2024-06-05T23:36:01.578437Z",
     "iopub.status.idle": "2024-06-05T23:36:01.602479Z",
     "shell.execute_reply": "2024-06-05T23:36:01.601994Z",
     "shell.execute_reply.started": "2024-06-05T23:36:01.578626Z"
    }
   },
   "outputs": [
    {
     "data": {
      "text/plain": [
       "True"
      ]
     },
     "execution_count": 27,
     "metadata": {},
     "output_type": "execute_result"
    }
   ],
   "source": [
    "os.path.exists(best_model_confusion_matrix_fpath)"
   ]
  },
  {
   "cell_type": "code",
   "execution_count": 28,
   "metadata": {
    "execution": {
     "iopub.execute_input": "2024-06-05T23:36:01.838396Z",
     "iopub.status.busy": "2024-06-05T23:36:01.838204Z",
     "iopub.status.idle": "2024-06-05T23:36:01.862701Z",
     "shell.execute_reply": "2024-06-05T23:36:01.862255Z",
     "shell.execute_reply.started": "2024-06-05T23:36:01.838383Z"
    }
   },
   "outputs": [
    {
     "data": {
      "text/plain": [
       "'modeling/models/EfficientNetB0-1/history.png'"
      ]
     },
     "execution_count": 28,
     "metadata": {},
     "output_type": "execute_result"
    }
   ],
   "source": [
    "best_model_history_fpath"
   ]
  },
  {
   "cell_type": "markdown",
   "metadata": {},
   "source": [
    "<img src='modeling/models/cnn1-fixed-lr/history.png'>"
   ]
  },
  {
   "cell_type": "code",
   "execution_count": 30,
   "metadata": {
    "execution": {
     "iopub.execute_input": "2024-06-05T23:37:16.981303Z",
     "iopub.status.busy": "2024-06-05T23:37:16.981115Z",
     "iopub.status.idle": "2024-06-05T23:37:17.267546Z",
     "shell.execute_reply": "2024-06-05T23:37:17.267214Z",
     "shell.execute_reply.started": "2024-06-05T23:37:16.981290Z"
    }
   },
   "outputs": [
    {
     "data": {
      "text/markdown": [
       "\n",
       "## Results\n",
       "\n",
       "Each of the final models included in the analysis are listed in the table below. \n",
       "\n",
       "|   Rank | Name                      |   Precision |   Recall |   F1-Score |   Accuracy | Fit Time       | Model Save Fpath                          |\n",
       "|-------:|:--------------------------|------------:|---------:|-----------:|-----------:|:---------------|:------------------------------------------|\n",
       "|      1 | EfficientNetB0-1          |       0.747 |    0.733 |      0.715 |      0.732 | 0:01:24.104776 | modeling/models/EfficientNetB0-1          |\n",
       "|      2 | VGG16-01                  |       0.654 |    0.612 |      0.599 |      0.614 | 0:01:19.377717 | modeling/models/VGG16-01                  |\n",
       "|      3 | cnn1-fixed-lr             |       0.499 |    0.471 |      0.456 |      0.482 | 0:00:27.681576 | modeling/models/cnn1-fixed-lr             |\n",
       "|      4 | towards-data-science-blog |       0.488 |    0.444 |      0.433 |      0.452 | 0:01:14.607511 | modeling/models/towards-data-science-blog |\n",
       "|      5 | cnn1-scheduled-lr         |       0.002 |    0.038 |      0.003 |      0.039 | 0:00:19.401393 | modeling/models/cnn1-scheduled-lr         |\n",
       "\n",
       "### Best Model\n",
       "\n",
       "- EfficientNetB0-1\n",
       "\n",
       "\n",
       "#### Test Results\n",
       "\n",
       "\n",
       "<img src=\"modeling/models/EfficientNetB0-1/history.png\">\n",
       "\n",
       "```\n",
       "--------------------------------------------------------------------------------\n",
       " Classification Metrics: Test Data \n",
       "--------------------------------------------------------------------------------\n",
       "              precision    recall  f1-score   support\n",
       "\n",
       "           A       0.75      0.86      0.80         7\n",
       "           B       1.00      0.60      0.75         5\n",
       "           C       0.88      0.88      0.88         8\n",
       "           D       0.70      0.58      0.64        12\n",
       "           E       0.50      0.33      0.40         6\n",
       "           F       0.50      0.43      0.46         7\n",
       "           G       1.00      0.60      0.75        10\n",
       "           H       0.56      1.00      0.71         5\n",
       "           I       0.47      0.78      0.58         9\n",
       "           J       0.88      0.94      0.91        16\n",
       "           K       0.83      0.71      0.77         7\n",
       "           L       0.83      0.67      0.74        15\n",
       "           M       0.58      0.88      0.70         8\n",
       "           N       0.88      0.58      0.70        12\n",
       "           O       0.86      0.60      0.71        10\n",
       "           P       0.88      0.70      0.78        10\n",
       "           Q       1.00      0.80      0.89        10\n",
       "           R       0.50      1.00      0.67         3\n",
       "           S       0.56      1.00      0.72         9\n",
       "           T       0.67      0.50      0.57         8\n",
       "           U       0.75      0.33      0.46         9\n",
       "           V       0.57      0.50      0.53         8\n",
       "           W       1.00      0.80      0.89         5\n",
       "           X       0.75      1.00      0.86         9\n",
       "           Y       0.75      1.00      0.86         9\n",
       "           Z       0.79      1.00      0.88        11\n",
       "\n",
       "    accuracy                           0.73       228\n",
       "   macro avg       0.75      0.73      0.72       228\n",
       "weighted avg       0.77      0.73      0.73       228\n",
       "\n",
       "--------------------------------------------------------------------------------\n",
       "```\n",
       "\n",
       "\n",
       "<img src=\"modeling/models/EfficientNetB0-1/confusion_matrix.png\">\n",
       "\n"
      ],
      "text/plain": [
       "<IPython.core.display.Markdown object>"
      ]
     },
     "metadata": {},
     "output_type": "display_data"
    }
   ],
   "source": [
    "## OLD/CURRENT REULTS\n",
    "\n",
    "results= f\"\"\"\n",
    "## Results\n",
    "\n",
    "Each of the final models included in the analysis are listed in the table below. \n",
    "\n",
    "{results_table_md}\n",
    "\n",
    "### Best Model\n",
    "\n",
    "- {best_model_name}\n",
    "\n",
    "\n",
    "#### Test Results\n",
    "\n",
    "\n",
    "<img src=\"{best_model_history_fpath}\">\n",
    "\n",
    "```\n",
    "{best_model_classification_report}\n",
    "```\n",
    "\n",
    "\n",
    "<img src=\"{best_model_confusion_matrix_fpath}\">\n",
    "\n",
    "\"\"\"\n",
    "Markdown(results)\n",
    "# <img src=\"images/best_model_results_bar.png\">\n",
    "readme_part2_fpath = FPATHS['readme']['Part02-model'] #$'config/readme_part2_results.md'\n",
    "with open(readme_part2_fpath,'w') as f:\n",
    "    f.write(results)\n",
    "\n",
    "with open(readme_part2_fpath,'r') as f:\n",
    "    display(Markdown(f.read()))"
   ]
  },
  {
   "cell_type": "markdown",
   "metadata": {},
   "source": [
    "### Lime Explanations"
   ]
  },
  {
   "cell_type": "code",
   "execution_count": 42,
   "metadata": {
    "execution": {
     "iopub.execute_input": "2024-06-05T23:44:08.603731Z",
     "iopub.status.busy": "2024-06-05T23:44:08.603540Z",
     "iopub.status.idle": "2024-06-05T23:44:08.879300Z",
     "shell.execute_reply": "2024-06-05T23:44:08.879013Z",
     "shell.execute_reply.started": "2024-06-05T23:44:08.603718Z"
    }
   },
   "outputs": [
    {
     "data": {
      "text/markdown": [
       "### Explaining Model Predictions with LIME\n",
       "\n",
       "- To better understand how the model was correctly or incorrectly classifying an image, we leveraged LIME's Image Explainer.\n",
       "- LIME's image explainer creates its own model to explain a model's prediction for a single image at a time. By inspecting the images the model is having difficulty with, we can get insights into how to change our modeling process/architecture.\n",
       "\n",
       "#### LIME Explanation for Correctly Classified Image\n",
       "\n",
       "<img src=\"images/lime-explain-correct.png\">\n",
       "\n",
       "Here we can see that the model was able to identify the letter O using the palm and thumb. The model used the crevice betwen the pinky and ring finges to differeniate between O and F.\n",
       "\n",
       "The letters O and F in ASL are indeed similar, as both involve the fingers forming a loop. However, they have distinct differences that can be critical for accurate classification.\n",
       "\n",
       "\n",
       "- Key Similarities:\n",
       "    - Both letters involve forming a loop with the fingers.\n",
       "    - Both have a circular shape as part of the sign.\n",
       "- Key Differences:\n",
       "    - In the letter O, all fingers and the thumb touch to form the circle, while in the letter F, only the thumb and index finger touch.\n",
       "    - The remaining fingers in the letter F are extended, whereas in the letter O, they are curved and relaxed.\n",
       "#### LIME Explanation for an Incorrectly Classified Image (Image Quality)\n",
       "\n",
       "<img src=\"images/lime-explain-incorrect-bad-img.png\">\n",
       "\n",
       "\n",
       "Here we can see that the model was able was confused by the image itself.\n",
       "It seems to have mistaken the wood flooring for human fingers, thus preventing it from identifying the letter correctly.\n",
       "Images like this should either be removed from the dataset or, ideally, augmented with an appropriate amount of data augmentaion.\n",
       "If this task was converted to include object recognition, the model may have been able to classify it correctly.\n",
       "\n",
       "This also underscores the need for quality, high-resolution training data for the best results.\n",
       "\n",
       "#### LIME Explanation for Incorrect \n",
       "Here we can see a D that was mistaken for an I. This is an understandable mistake, as the two letters have strong similarities.\n",
       "\n",
       "<img src=\"images/image-explain-incorrect.png\"> \n",
       "\n",
       "- Key Similarities:\n",
       "    - Single Extended Finger: Both D and I involve extending a single finger straight up. In D, it’s the index finger, while in I, it’s the pinky finger. This similarity can easily confuse a computer vision model, especially if the finger is not clearly visible due to angle or occlusion.\n",
       "    - Curled Fingers: The rest of the fingers are curled or touching the thumb in both signs, forming a rounded shape that can look quite similar from certain angles.\n",
       "     - Hand Orientation: Both letters are presented with the palm facing outward or slightly to the side, making it harder for the model to rely on palm orientation as a distinguishing feature.\n",
       "- Key Differences:\n",
       "     - Finger Extended: The primary difference lies in which finger is extended. The index finger for D and the pinky finger for I. The model needs to be trained to focus on which specific finger is extended.\n",
       "    - Hand Shape: For D, the remaining fingers form a rounded base with the thumb, while for I, the remaining fingers form a fist. This difference in hand shape can be subtle and requires high-resolution images and careful feature extraction to capture effectively.\n",
       "    - Thumb Position: In D, the thumb is actively touching the curved fingers, forming a distinct circle, while in I, the thumb is less prominent and rests over the curled fingers.\n",
       "\n",
       "### LIME Explanations - Implications for Modeling\n",
       "\n",
       "To increase the ease of training of a model to better distinguish between similar letters, we should consider the following:\n",
       "\n",
       "- Use High-Resolution images to capture the fine details of finger positioning.\n",
       "    - This could be as simple as increasing the height and width of the input images, or may involve acquiring higher quality training data.\n",
       "- Apply Data Augmentation techniques to ensure the model sees these letters from various angles and under different lighting conditions.\n",
       "    - Due to the nature of the ASL alphabet and the expected orientation of the hand, data augmentation should be applied much more carefully than with other tasks where orientation is more variable.\n",
       "- Feature Extraction: Focus on extracting features related to the number of extended fingers and the specific shape and orientation of the thumb.\n",
       "    - Investigate the feature maps extracted from each convolution layer to better optimize feature extraction.\n",
       "    \n",
       "- More robust training using more examples of letters that are very similar.\n"
      ],
      "text/plain": [
       "<IPython.core.display.Markdown object>"
      ]
     },
     "metadata": {},
     "output_type": "display_data"
    }
   ],
   "source": [
    "\n",
    "readme_lime_explanations_fpath = FPATHS['readme']['Part03-explain']\n",
    "\n",
    "\n",
    "with open(readme_lime_explanations_fpath) as f:\n",
    "    display(Markdown(f.read()))\n"
   ]
  },
  {
   "cell_type": "markdown",
   "metadata": {},
   "source": [
    "### Part 4 /Conclusion"
   ]
  },
  {
   "cell_type": "code",
   "execution_count": 39,
   "metadata": {
    "execution": {
     "iopub.execute_input": "2024-06-05T23:43:47.756173Z",
     "iopub.status.busy": "2024-06-05T23:43:47.755988Z",
     "iopub.status.idle": "2024-06-05T23:43:47.955953Z",
     "shell.execute_reply": "2024-06-05T23:43:47.955609Z",
     "shell.execute_reply.started": "2024-06-05T23:43:47.756160Z"
    }
   },
   "outputs": [],
   "source": [
    "conclusion =\"\"\"### To Dos:\n",
    "- [x] Apply transfer learning\n",
    "- [x] Apply LimeExplainer with best model. \n",
    "- [ ] Continue tuning the best architecture with the Keras tuner.\n",
    "- [ ] Assess inclusion of data augmentation on model performance.\n",
    "- [ ] Save the best model for deployment using model quantization.\n",
    "\n",
    "- [ ] Deploy a streamlit application for live inference from uploaded images. \n",
    "\n",
    "\n",
    "### Future Work\n",
    "\n",
    "There are many more iterations to test for this task:\n",
    "- [ ] Does image augmentation help the models? If so, what augmentations can be applied safely for this task?\n",
    "- [ ] Does adding additional hidden layers on top of EfficientNet improve performance?\n",
    "- [ ] Do other available transfer learning models outperform efficient net?\n",
    "- [ ] Does allowing the transfer learning models to train the convolutional base improve performance?\n",
    "\n",
    "\n",
    "> **The next level of complexity would be to add object detection for hands, followed by sign classification.** The ultimate goal would be to use video input for ASL alphabet letter detection and classification.\n",
    "\n",
    "## Summary\n",
    "\n",
    "This project demonstrates proof-of-concept work classifying ASL alphabetical characters. Working with a 26-label classification model is tricky, but pales in comparison to what would be required to interpert whole ASL words.\n",
    "\n",
    "\n",
    "\"\"\""
   ]
  },
  {
   "cell_type": "code",
   "execution_count": 40,
   "metadata": {
    "execution": {
     "iopub.execute_input": "2024-06-05T23:43:48.203307Z",
     "iopub.status.busy": "2024-06-05T23:43:48.203115Z",
     "iopub.status.idle": "2024-06-05T23:43:48.231311Z",
     "shell.execute_reply": "2024-06-05T23:43:48.230850Z",
     "shell.execute_reply.started": "2024-06-05T23:43:48.203293Z"
    }
   },
   "outputs": [
    {
     "data": {
      "text/markdown": [
       "### To Dos:\n",
       "- [x] Apply transfer learning\n",
       "- [x] Apply LimeExplainer with best model. \n",
       "- [ ] Continue tuning the best architecture with the Keras tuner.\n",
       "- [ ] Assess inclusion of data augmentation on model performance.\n",
       "- [ ] Save the best model for deployment using model quantization.\n",
       "\n",
       "- [ ] Deploy a streamlit application for live inference from uploaded images. \n",
       "\n",
       "\n",
       "### Future Work\n",
       "\n",
       "There are many more iterations to test for this task:\n",
       "- [ ] Does image augmentation help the models? If so, what augmentations can be applied safely for this task?\n",
       "- [ ] Does adding additional hidden layers on top of EfficientNet improve performance?\n",
       "- [ ] Do other available transfer learning models outperform efficient net?\n",
       "- [ ] Does allowing the transfer learning models to train the convolutional base improve performance?\n",
       "\n",
       "\n",
       "> **The next level of complexity would be to add object detection for hands, followed by sign classification.** The ultimate goal would be to use video input for ASL alphabet letter detection and classification.\n",
       "\n",
       "## Summary\n",
       "\n",
       "This project demonstrates proof-of-concept work classifying ASL alphabetical characters. Working with a 26-label classification model is tricky, but pales in comparison to what would be required to interpert whole ASL words.\n",
       "\n",
       "\n"
      ],
      "text/plain": [
       "<IPython.core.display.Markdown object>"
      ]
     },
     "metadata": {},
     "output_type": "display_data"
    }
   ],
   "source": [
    "readme_part4_fpath =  FPATHS['readme']['Part04-conclusion'] #'config/readme_part3_results.md'\n",
    "with open(readme_part4_fpath,'w') as f:\n",
    "    f.write(conclusion)\n",
    "\n",
    "with open(readme_part4_fpath,'r') as f:\n",
    "    display(Markdown(f.read()))"
   ]
  },
  {
   "cell_type": "markdown",
   "metadata": {},
   "source": [
    "# Combine Into Final README"
   ]
  },
  {
   "cell_type": "code",
   "execution_count": 43,
   "metadata": {
    "execution": {
     "iopub.execute_input": "2024-06-05T23:44:26.958235Z",
     "iopub.status.busy": "2024-06-05T23:44:26.957929Z",
     "iopub.status.idle": "2024-06-05T23:44:27.230032Z",
     "shell.execute_reply": "2024-06-05T23:44:27.229722Z",
     "shell.execute_reply.started": "2024-06-05T23:44:26.958221Z"
    }
   },
   "outputs": [
    {
     "data": {
      "text/markdown": [
       "\n",
       "\n",
       "# computer-vision-american-sign-language\n",
       "\n",
       "-  Last Updated: 06/05/2024\n",
       "\n",
       "<center><img src=\"images/American_Sign_Language_ASL.svg\" width=500px>\n",
       "<p>By Psiĥedelisto - Own work, Public Domain, <a href=\"https://commons.wikimedia.org/w/index.php?curid=53652991\">\"https://commons.wikimedia.org/w/index.php?curid=53652991</a><p>\n",
       "</center>\n",
       "\n",
       "## Description\n",
       "\n",
       "This project aims to develop a computer vision system for American Sign Language (ASL) recognition. \n",
       "\n",
       "\n",
       "### Goals \n",
       "> - **The first/primary goal is to create a model that can classify images of letters from the ASL alphabet (26-class multi-classification)**\n",
       "- Create a streamlit application that will accept an image and predict which letter it is.\n",
       "\n",
       "> - **The second, above-and-beyond goal is to use video as the input and add object detection.**\n",
       "\n",
       "### Features\n",
       "\n",
       "- ASL letter and word translation\n",
       "- User-friendly interface\n",
       "- Support for multiple hand gestures\n",
       "\n",
       "<center><img src=\"images/Sign_language_alphabet_(58).png\" width=500px style=\"border:solid black 1px\"> \n",
       "\n",
       "<p><a href=\"https://commons.wikimedia.org/wiki/File:Sign_language_alphabet_(58).png\">Image Source</a> </p>\n",
       "<p> Raziakhatun12, CC BY-SA 4.0 <https://creativecommons.org/licenses/by-sa/4.0>, via Wikimedia Commons</p>\n",
       "\n",
       "</center>\n",
       "\n",
       "\n",
       "\n",
       "\n",
       "## Data\n",
       "\n",
       "### Source/Download\n",
       "- Public Dataset from [Roboflow](https://public.roboflow.com/object-detection/american-sign-language-letters)\n",
       "\n",
       "\n",
       "To download:\n",
       "- Navigate to https://public.roboflow.com/object-detection/american-sign-language-letters\n",
       "- Click `->` for Downloads.\n",
       "- Select Format =  Multi-Label Classifiction\n",
       "- Download zip to computer\n",
       "\n",
       "\n",
       "### Data Details\n",
       "- 26 letters of the alphabet\n",
       "- J and Z are gesture-based letters and will likely be difficult to classify using static images.\n",
       "\n",
       "- Number of Images: 1731\n",
       "- Size: 416 x  416 \n",
       "- Channels: 3\n",
       "\n",
       "Example of Each letter:\n",
       "\n",
       "<img src=\"images/ed_example_letters.png\">\n",
       "\n",
       "\n",
       "## EDA\n",
       "\n",
       "\n",
       "\n",
       "### Class Balance\n",
       "\n",
       "\n",
       "\n",
       "\n",
       "<img src=\"images/label-distribution-countplot.png\">\n",
       "\n",
       "\n",
       "\n",
       "### Methods\n",
       "\n",
       "\n",
       "- Loading Images as a Tensorflow Dataset object.\n",
       "    - Image size: 128 x 128\n",
       "    - Batch size: 32   \n",
       "    - No data augmentation due to nature of sign language.\n",
       "\n",
       "- Constructing Convolutional Neural Networks in tensorflow.\n",
       "- Applying transfer learning with pretrained models\n",
       "- Explain image classifications using  Lime's ImageExplainer.\n",
       "\n",
       "\n",
       "\n",
       "\n",
       "## Results\n",
       "\n",
       "Each of the final models included in the analysis are listed in the table below. \n",
       "\n",
       "|   Rank | Name                      |   Precision |   Recall |   F1-Score |   Accuracy | Fit Time       | Model Save Fpath                          |\n",
       "|-------:|:--------------------------|------------:|---------:|-----------:|-----------:|:---------------|:------------------------------------------|\n",
       "|      1 | EfficientNetB0-1          |       0.747 |    0.733 |      0.715 |      0.732 | 0:01:24.104776 | modeling/models/EfficientNetB0-1          |\n",
       "|      2 | VGG16-01                  |       0.654 |    0.612 |      0.599 |      0.614 | 0:01:19.377717 | modeling/models/VGG16-01                  |\n",
       "|      3 | cnn1-fixed-lr             |       0.499 |    0.471 |      0.456 |      0.482 | 0:00:27.681576 | modeling/models/cnn1-fixed-lr             |\n",
       "|      4 | towards-data-science-blog |       0.488 |    0.444 |      0.433 |      0.452 | 0:01:14.607511 | modeling/models/towards-data-science-blog |\n",
       "|      5 | cnn1-scheduled-lr         |       0.002 |    0.038 |      0.003 |      0.039 | 0:00:19.401393 | modeling/models/cnn1-scheduled-lr         |\n",
       "\n",
       "### Best Model\n",
       "\n",
       "- EfficientNetB0-1\n",
       "\n",
       "\n",
       "#### Test Results\n",
       "\n",
       "\n",
       "<img src=\"modeling/models/EfficientNetB0-1/history.png\">\n",
       "\n",
       "```\n",
       "--------------------------------------------------------------------------------\n",
       " Classification Metrics: Test Data \n",
       "--------------------------------------------------------------------------------\n",
       "              precision    recall  f1-score   support\n",
       "\n",
       "           A       0.75      0.86      0.80         7\n",
       "           B       1.00      0.60      0.75         5\n",
       "           C       0.88      0.88      0.88         8\n",
       "           D       0.70      0.58      0.64        12\n",
       "           E       0.50      0.33      0.40         6\n",
       "           F       0.50      0.43      0.46         7\n",
       "           G       1.00      0.60      0.75        10\n",
       "           H       0.56      1.00      0.71         5\n",
       "           I       0.47      0.78      0.58         9\n",
       "           J       0.88      0.94      0.91        16\n",
       "           K       0.83      0.71      0.77         7\n",
       "           L       0.83      0.67      0.74        15\n",
       "           M       0.58      0.88      0.70         8\n",
       "           N       0.88      0.58      0.70        12\n",
       "           O       0.86      0.60      0.71        10\n",
       "           P       0.88      0.70      0.78        10\n",
       "           Q       1.00      0.80      0.89        10\n",
       "           R       0.50      1.00      0.67         3\n",
       "           S       0.56      1.00      0.72         9\n",
       "           T       0.67      0.50      0.57         8\n",
       "           U       0.75      0.33      0.46         9\n",
       "           V       0.57      0.50      0.53         8\n",
       "           W       1.00      0.80      0.89         5\n",
       "           X       0.75      1.00      0.86         9\n",
       "           Y       0.75      1.00      0.86         9\n",
       "           Z       0.79      1.00      0.88        11\n",
       "\n",
       "    accuracy                           0.73       228\n",
       "   macro avg       0.75      0.73      0.72       228\n",
       "weighted avg       0.77      0.73      0.73       228\n",
       "\n",
       "--------------------------------------------------------------------------------\n",
       "```\n",
       "\n",
       "\n",
       "<img src=\"modeling/models/EfficientNetB0-1/confusion_matrix.png\">\n",
       "\n",
       "\n",
       "### Explaining Model Predictions with LIME\n",
       "\n",
       "- To better understand how the model was correctly or incorrectly classifying an image, we leveraged LIME's Image Explainer.\n",
       "- LIME's image explainer creates its own model to explain a model's prediction for a single image at a time. By inspecting the images the model is having difficulty with, we can get insights into how to change our modeling process/architecture.\n",
       "\n",
       "#### LIME Explanation for Correctly Classified Image\n",
       "\n",
       "<img src=\"images/lime-explain-correct.png\">\n",
       "\n",
       "Here we can see that the model was able to identify the letter O using the palm and thumb. The model used the crevice betwen the pinky and ring finges to differeniate between O and F.\n",
       "\n",
       "The letters O and F in ASL are indeed similar, as both involve the fingers forming a loop. However, they have distinct differences that can be critical for accurate classification.\n",
       "\n",
       "\n",
       "- Key Similarities:\n",
       "    - Both letters involve forming a loop with the fingers.\n",
       "    - Both have a circular shape as part of the sign.\n",
       "- Key Differences:\n",
       "    - In the letter O, all fingers and the thumb touch to form the circle, while in the letter F, only the thumb and index finger touch.\n",
       "    - The remaining fingers in the letter F are extended, whereas in the letter O, they are curved and relaxed.\n",
       "#### LIME Explanation for an Incorrectly Classified Image (Image Quality)\n",
       "\n",
       "<img src=\"images/lime-explain-incorrect-bad-img.png\">\n",
       "\n",
       "\n",
       "Here we can see that the model was able was confused by the image itself.\n",
       "It seems to have mistaken the wood flooring for human fingers, thus preventing it from identifying the letter correctly.\n",
       "Images like this should either be removed from the dataset or, ideally, augmented with an appropriate amount of data augmentaion.\n",
       "If this task was converted to include object recognition, the model may have been able to classify it correctly.\n",
       "\n",
       "This also underscores the need for quality, high-resolution training data for the best results.\n",
       "\n",
       "#### LIME Explanation for Incorrect \n",
       "Here we can see a D that was mistaken for an I. This is an understandable mistake, as the two letters have strong similarities.\n",
       "\n",
       "<img src=\"images/image-explain-incorrect.png\"> \n",
       "\n",
       "- Key Similarities:\n",
       "    - Single Extended Finger: Both D and I involve extending a single finger straight up. In D, it’s the index finger, while in I, it’s the pinky finger. This similarity can easily confuse a computer vision model, especially if the finger is not clearly visible due to angle or occlusion.\n",
       "    - Curled Fingers: The rest of the fingers are curled or touching the thumb in both signs, forming a rounded shape that can look quite similar from certain angles.\n",
       "     - Hand Orientation: Both letters are presented with the palm facing outward or slightly to the side, making it harder for the model to rely on palm orientation as a distinguishing feature.\n",
       "- Key Differences:\n",
       "     - Finger Extended: The primary difference lies in which finger is extended. The index finger for D and the pinky finger for I. The model needs to be trained to focus on which specific finger is extended.\n",
       "    - Hand Shape: For D, the remaining fingers form a rounded base with the thumb, while for I, the remaining fingers form a fist. This difference in hand shape can be subtle and requires high-resolution images and careful feature extraction to capture effectively.\n",
       "    - Thumb Position: In D, the thumb is actively touching the curved fingers, forming a distinct circle, while in I, the thumb is less prominent and rests over the curled fingers.\n",
       "\n",
       "### LIME Explanations - Implications for Modeling\n",
       "\n",
       "To increase the ease of training of a model to better distinguish between similar letters, we should consider the following:\n",
       "\n",
       "- Use High-Resolution images to capture the fine details of finger positioning.\n",
       "    - This could be as simple as increasing the height and width of the input images, or may involve acquiring higher quality training data.\n",
       "- Apply Data Augmentation techniques to ensure the model sees these letters from various angles and under different lighting conditions.\n",
       "    - Due to the nature of the ASL alphabet and the expected orientation of the hand, data augmentation should be applied much more carefully than with other tasks where orientation is more variable.\n",
       "- Feature Extraction: Focus on extracting features related to the number of extended fingers and the specific shape and orientation of the thumb.\n",
       "    - Investigate the feature maps extracted from each convolution layer to better optimize feature extraction.\n",
       "    \n",
       "- More robust training using more examples of letters that are very similar.\n",
       "\n",
       "### To Dos:\n",
       "- [x] Apply transfer learning\n",
       "- [x] Apply LimeExplainer with best model. \n",
       "- [ ] Continue tuning the best architecture with the Keras tuner.\n",
       "- [ ] Assess inclusion of data augmentation on model performance.\n",
       "- [ ] Save the best model for deployment using model quantization.\n",
       "\n",
       "- [ ] Deploy a streamlit application for live inference from uploaded images. \n",
       "\n",
       "\n",
       "### Future Work\n",
       "\n",
       "There are many more iterations to test for this task:\n",
       "- [ ] Does image augmentation help the models? If so, what augmentations can be applied safely for this task?\n",
       "- [ ] Does adding additional hidden layers on top of EfficientNet improve performance?\n",
       "- [ ] Do other available transfer learning models outperform efficient net?\n",
       "- [ ] Does allowing the transfer learning models to train the convolutional base improve performance?\n",
       "\n",
       "\n",
       "> **The next level of complexity would be to add object detection for hands, followed by sign classification.** The ultimate goal would be to use video input for ASL alphabet letter detection and classification.\n",
       "\n",
       "## Summary\n",
       "\n",
       "This project demonstrates proof-of-concept work classifying ASL alphabetical characters. Working with a 26-label classification model is tricky, but pales in comparison to what would be required to interpert whole ASL words.\n",
       "\n",
       "\n"
      ],
      "text/plain": [
       "<IPython.core.display.Markdown object>"
      ]
     },
     "metadata": {},
     "output_type": "display_data"
    }
   ],
   "source": [
    "files_to_merge=  [readme_part1_fpath, readme_part2_fpath,readme_lime_explanations_fpath, readme_part4_fpath]\n",
    "readme_text = \"\"\n",
    "for file in files_to_merge:\n",
    "    with open(file) as f:\n",
    "        text = f.read()\n",
    "        readme_text+=\"\\n\"+text\n",
    "display(Markdown(readme_text))"
   ]
  },
  {
   "cell_type": "code",
   "execution_count": 44,
   "metadata": {
    "execution": {
     "iopub.execute_input": "2024-06-05T23:44:33.996596Z",
     "iopub.status.busy": "2024-06-05T23:44:33.996320Z",
     "iopub.status.idle": "2024-06-05T23:44:34.026081Z",
     "shell.execute_reply": "2024-06-05T23:44:34.025688Z",
     "shell.execute_reply.started": "2024-06-05T23:44:33.996574Z"
    }
   },
   "outputs": [
    {
     "name": "stdout",
     "output_type": "stream",
     "text": [
      "Saving README\n"
     ]
    }
   ],
   "source": [
    "if '.git' in os.listdir():\n",
    "    print(\"Saving README\")\n",
    "    with open(\"README.md\",'w') as f:\n",
    "        f.write(readme_text)\n",
    "else:\n",
    "    raise Exception(\".git not found\")"
   ]
  },
  {
   "cell_type": "code",
   "execution_count": null,
   "metadata": {},
   "outputs": [],
   "source": []
  },
  {
   "cell_type": "code",
   "execution_count": null,
   "metadata": {},
   "outputs": [],
   "source": []
  }
 ],
 "metadata": {
  "kernelspec": {
   "display_name": "Python (dojo-env)",
   "language": "python",
   "name": "dojo-env"
  },
  "language_info": {
   "codemirror_mode": {
    "name": "ipython",
    "version": 3
   },
   "file_extension": ".py",
   "mimetype": "text/x-python",
   "name": "python",
   "nbconvert_exporter": "python",
   "pygments_lexer": "ipython3",
   "version": "3.10.10"
  }
 },
 "nbformat": 4,
 "nbformat_minor": 4
}
