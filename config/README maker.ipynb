{
 "cells": [
  {
   "cell_type": "markdown",
   "metadata": {},
   "source": [
    "# README MAKER"
   ]
  },
  {
   "cell_type": "markdown",
   "metadata": {},
   "source": [
    "## Admin/Prep"
   ]
  },
  {
   "cell_type": "code",
   "execution_count": 161,
   "metadata": {
    "execution": {
     "iopub.execute_input": "2024-06-03T15:19:30.761857Z",
     "iopub.status.busy": "2024-06-03T15:19:30.761577Z",
     "iopub.status.idle": "2024-06-03T15:19:30.766554Z",
     "shell.execute_reply": "2024-06-03T15:19:30.766123Z",
     "shell.execute_reply.started": "2024-06-03T15:19:30.761843Z"
    }
   },
   "outputs": [
    {
     "data": {
      "text/plain": [
       "'/Users/codingdojo/Documents/GitHub/_MY_PROJECTS/computer-vision-american-sign-language'"
      ]
     },
     "execution_count": 161,
     "metadata": {},
     "output_type": "execute_result"
    }
   ],
   "source": [
    "# Chagne dir to match final README location\n",
    "import os\n",
    "if '.git' not in os.listdir():\n",
    "    os.chdir(\"../\")\n",
    "os.getcwd()"
   ]
  },
  {
   "cell_type": "code",
   "execution_count": 162,
   "metadata": {
    "execution": {
     "iopub.execute_input": "2024-06-03T15:42:05.576895Z",
     "iopub.status.busy": "2024-06-03T15:42:05.576570Z",
     "iopub.status.idle": "2024-06-03T15:42:05.866999Z",
     "shell.execute_reply": "2024-06-03T15:42:05.866704Z",
     "shell.execute_reply.started": "2024-06-03T15:42:05.576881Z"
    }
   },
   "outputs": [
    {
     "data": {
      "text/plain": [
       "dict_keys(['data', 'images', 'eda', 'modeling', 'readme'])"
      ]
     },
     "execution_count": 162,
     "metadata": {},
     "output_type": "execute_result"
    }
   ],
   "source": [
    "import os, json\n",
    "from IPython.display import Markdown\n",
    "\n",
    "config_file =\"config/filepaths.json\"\n",
    "with open(config_file) as f:\n",
    "    FPATHS = json.load(f)\n",
    "FPATHS.keys()"
   ]
  },
  {
   "cell_type": "code",
   "execution_count": 163,
   "metadata": {},
   "outputs": [
    {
     "data": {
      "text/plain": [
       "{'results_table_md': 'modeling/results_table.md'}"
      ]
     },
     "execution_count": 163,
     "metadata": {},
     "output_type": "execute_result"
    }
   ],
   "source": [
    "FPATHS['readme']"
   ]
  },
  {
   "cell_type": "code",
   "execution_count": 164,
   "metadata": {
    "execution": {
     "iopub.execute_input": "2024-06-03T15:42:05.868214Z",
     "iopub.status.busy": "2024-06-03T15:42:05.868073Z",
     "iopub.status.idle": "2024-06-03T15:42:05.896373Z",
     "shell.execute_reply": "2024-06-03T15:42:05.895979Z",
     "shell.execute_reply.started": "2024-06-03T15:42:05.868203Z"
    }
   },
   "outputs": [
    {
     "name": "stdout",
     "output_type": "stream",
     "text": [
      "The autoreload extension is already loaded. To reload it, use:\n",
      "  %reload_ext autoreload\n"
     ]
    }
   ],
   "source": [
    "# Custom functions:\n",
    "%load_ext autoreload\n",
    "%autoreload 2\n",
    "# sys.path.append(os.path.abspath(\"../../\"))\n",
    "import custom_functions as cf\n",
    "# dir(cf)"
   ]
  },
  {
   "cell_type": "markdown",
   "metadata": {},
   "source": [
    "### Prepare Results Table"
   ]
  },
  {
   "cell_type": "code",
   "execution_count": 165,
   "metadata": {
    "execution": {
     "iopub.execute_input": "2024-06-03T15:43:48.650324Z",
     "iopub.status.busy": "2024-06-03T15:43:48.650133Z",
     "iopub.status.idle": "2024-06-03T15:43:48.699464Z",
     "shell.execute_reply": "2024-06-03T15:43:48.699148Z",
     "shell.execute_reply.started": "2024-06-03T15:43:48.650310Z"
    }
   },
   "outputs": [
    {
     "name": "stdout",
     "output_type": "stream",
     "text": [
      "\n",
      "[i] Saved parsed logs to modeling/nn_training.csv\n"
     ]
    },
    {
     "data": {
      "text/html": [
       "<div>\n",
       "<style scoped>\n",
       "    .dataframe tbody tr th:only-of-type {\n",
       "        vertical-align: middle;\n",
       "    }\n",
       "\n",
       "    .dataframe tbody tr th {\n",
       "        vertical-align: top;\n",
       "    }\n",
       "\n",
       "    .dataframe thead th {\n",
       "        text-align: right;\n",
       "    }\n",
       "</style>\n",
       "<table border=\"1\" class=\"dataframe\">\n",
       "  <thead>\n",
       "    <tr style=\"text-align: right;\">\n",
       "      <th></th>\n",
       "      <th>Start Time</th>\n",
       "      <th>Name</th>\n",
       "      <th>Precision</th>\n",
       "      <th>Recall</th>\n",
       "      <th>F1-Score</th>\n",
       "      <th>Accuracy</th>\n",
       "      <th>Save Classification Report Fpath</th>\n",
       "      <th>Save History Fpath</th>\n",
       "      <th>Save Confusion Matrix Fpath</th>\n",
       "      <th>Fit Time</th>\n",
       "      <th>Model Save Fpath</th>\n",
       "    </tr>\n",
       "    <tr>\n",
       "      <th>Rank</th>\n",
       "      <th></th>\n",
       "      <th></th>\n",
       "      <th></th>\n",
       "      <th></th>\n",
       "      <th></th>\n",
       "      <th></th>\n",
       "      <th></th>\n",
       "      <th></th>\n",
       "      <th></th>\n",
       "      <th></th>\n",
       "      <th></th>\n",
       "    </tr>\n",
       "  </thead>\n",
       "  <tbody>\n",
       "    <tr>\n",
       "      <th>5</th>\n",
       "      <td>06/03/2024 12:22:14</td>\n",
       "      <td>towards-data-science</td>\n",
       "      <td>0.386</td>\n",
       "      <td>0.318</td>\n",
       "      <td>0.316</td>\n",
       "      <td>0.342</td>\n",
       "      <td>modeling/models/towards-data-science/classific...</td>\n",
       "      <td>modeling/models/towards-data-science/history.png</td>\n",
       "      <td>modeling/models/towards-data-science/confusion...</td>\n",
       "      <td>0:01:43.888912</td>\n",
       "      <td>modeling/models/towards-data-science</td>\n",
       "    </tr>\n",
       "    <tr>\n",
       "      <th>6</th>\n",
       "      <td>06/03/2024 12:24:25</td>\n",
       "      <td>towards-data-science_lr-schedule</td>\n",
       "      <td>0.312</td>\n",
       "      <td>0.288</td>\n",
       "      <td>0.271</td>\n",
       "      <td>0.294</td>\n",
       "      <td>modeling/models/towards-data-science_lr-schedu...</td>\n",
       "      <td>modeling/models/towards-data-science_lr-schedu...</td>\n",
       "      <td>modeling/models/towards-data-science_lr-schedu...</td>\n",
       "      <td>0:04:23.701543</td>\n",
       "      <td>modeling/models/towards-data-science_lr-schedule</td>\n",
       "    </tr>\n",
       "    <tr>\n",
       "      <th>3</th>\n",
       "      <td>06/03/2024 12:28:55</td>\n",
       "      <td>cnn1-fixed-lr</td>\n",
       "      <td>0.355</td>\n",
       "      <td>0.359</td>\n",
       "      <td>0.347</td>\n",
       "      <td>0.368</td>\n",
       "      <td>modeling/models/cnn1-fixed-lr/classification_r...</td>\n",
       "      <td>modeling/models/cnn1-fixed-lr/history.png</td>\n",
       "      <td>modeling/models/cnn1-fixed-lr/confusion_matrix...</td>\n",
       "      <td>0:00:21.583943</td>\n",
       "      <td>modeling/models/cnn1-fixed-lr</td>\n",
       "    </tr>\n",
       "    <tr>\n",
       "      <th>3</th>\n",
       "      <td>06/03/2024 12:29:21</td>\n",
       "      <td>cnn1-scheduled-lr</td>\n",
       "      <td>0.355</td>\n",
       "      <td>0.359</td>\n",
       "      <td>0.346</td>\n",
       "      <td>0.368</td>\n",
       "      <td>modeling/models/cnn1-scheduled-lr/classificati...</td>\n",
       "      <td>modeling/models/cnn1-scheduled-lr/history.png</td>\n",
       "      <td>modeling/models/cnn1-scheduled-lr/confusion_ma...</td>\n",
       "      <td>0:00:22.408392</td>\n",
       "      <td>modeling/models/cnn1-scheduled-lr</td>\n",
       "    </tr>\n",
       "    <tr>\n",
       "      <th>2</th>\n",
       "      <td>06/03/2024 12:29:51</td>\n",
       "      <td>VGG16-01</td>\n",
       "      <td>0.539</td>\n",
       "      <td>0.534</td>\n",
       "      <td>0.518</td>\n",
       "      <td>0.535</td>\n",
       "      <td>modeling/models/VGG16-01/classification_report...</td>\n",
       "      <td>modeling/models/VGG16-01/history.png</td>\n",
       "      <td>modeling/models/VGG16-01/confusion_matrix.png</td>\n",
       "      <td>0:01:55.297751</td>\n",
       "      <td>modeling/models/VGG16-01</td>\n",
       "    </tr>\n",
       "    <tr>\n",
       "      <th>1</th>\n",
       "      <td>06/03/2024 12:31:58</td>\n",
       "      <td>EfficientNetB0-1</td>\n",
       "      <td>0.772</td>\n",
       "      <td>0.769</td>\n",
       "      <td>0.754</td>\n",
       "      <td>0.763</td>\n",
       "      <td>modeling/models/EfficientNetB0-1/classificatio...</td>\n",
       "      <td>modeling/models/EfficientNetB0-1/history.png</td>\n",
       "      <td>modeling/models/EfficientNetB0-1/confusion_mat...</td>\n",
       "      <td>0:02:04.131142</td>\n",
       "      <td>modeling/models/EfficientNetB0-1</td>\n",
       "    </tr>\n",
       "  </tbody>\n",
       "</table>\n",
       "</div>"
      ],
      "text/plain": [
       "               Start Time                              Name  Precision  \\\n",
       "Rank                                                                     \n",
       "5     06/03/2024 12:22:14              towards-data-science      0.386   \n",
       "6     06/03/2024 12:24:25  towards-data-science_lr-schedule      0.312   \n",
       "3     06/03/2024 12:28:55                     cnn1-fixed-lr      0.355   \n",
       "3     06/03/2024 12:29:21                 cnn1-scheduled-lr      0.355   \n",
       "2     06/03/2024 12:29:51                          VGG16-01      0.539   \n",
       "1     06/03/2024 12:31:58                  EfficientNetB0-1      0.772   \n",
       "\n",
       "      Recall  F1-Score  Accuracy  \\\n",
       "Rank                               \n",
       "5      0.318     0.316     0.342   \n",
       "6      0.288     0.271     0.294   \n",
       "3      0.359     0.347     0.368   \n",
       "3      0.359     0.346     0.368   \n",
       "2      0.534     0.518     0.535   \n",
       "1      0.769     0.754     0.763   \n",
       "\n",
       "                       Save Classification Report Fpath  \\\n",
       "Rank                                                      \n",
       "5     modeling/models/towards-data-science/classific...   \n",
       "6     modeling/models/towards-data-science_lr-schedu...   \n",
       "3     modeling/models/cnn1-fixed-lr/classification_r...   \n",
       "3     modeling/models/cnn1-scheduled-lr/classificati...   \n",
       "2     modeling/models/VGG16-01/classification_report...   \n",
       "1     modeling/models/EfficientNetB0-1/classificatio...   \n",
       "\n",
       "                                     Save History Fpath  \\\n",
       "Rank                                                      \n",
       "5      modeling/models/towards-data-science/history.png   \n",
       "6     modeling/models/towards-data-science_lr-schedu...   \n",
       "3             modeling/models/cnn1-fixed-lr/history.png   \n",
       "3         modeling/models/cnn1-scheduled-lr/history.png   \n",
       "2                  modeling/models/VGG16-01/history.png   \n",
       "1          modeling/models/EfficientNetB0-1/history.png   \n",
       "\n",
       "                            Save Confusion Matrix Fpath        Fit Time  \\\n",
       "Rank                                                                      \n",
       "5     modeling/models/towards-data-science/confusion...  0:01:43.888912   \n",
       "6     modeling/models/towards-data-science_lr-schedu...  0:04:23.701543   \n",
       "3     modeling/models/cnn1-fixed-lr/confusion_matrix...  0:00:21.583943   \n",
       "3     modeling/models/cnn1-scheduled-lr/confusion_ma...  0:00:22.408392   \n",
       "2         modeling/models/VGG16-01/confusion_matrix.png  0:01:55.297751   \n",
       "1     modeling/models/EfficientNetB0-1/confusion_mat...  0:02:04.131142   \n",
       "\n",
       "                                      Model Save Fpath  \n",
       "Rank                                                    \n",
       "5                 modeling/models/towards-data-science  \n",
       "6     modeling/models/towards-data-science_lr-schedule  \n",
       "3                        modeling/models/cnn1-fixed-lr  \n",
       "3                    modeling/models/cnn1-scheduled-lr  \n",
       "2                             modeling/models/VGG16-01  \n",
       "1                     modeling/models/EfficientNetB0-1  "
      ]
     },
     "execution_count": 165,
     "metadata": {},
     "output_type": "execute_result"
    }
   ],
   "source": [
    "logs_df = cf.logs.parse_log_file(FPATHS['modeling']['results_log'],clean_results=True, remove_fpaths=False)\n",
    "logs_df.insert(0,'Rank',logs_df['Accuracy'].rank(ascending=False).astype(int))\n",
    "logs_df = logs_df.set_index(\"Rank\")\n",
    "logs_df\n",
    "logs_df\n"
   ]
  },
  {
   "cell_type": "code",
   "execution_count": 166,
   "metadata": {},
   "outputs": [
    {
     "data": {
      "text/plain": [
       "Start Time                                                        06/03/2024 12:31:58\n",
       "Name                                                                 EfficientNetB0-1\n",
       "Precision                                                                       0.772\n",
       "Recall                                                                          0.769\n",
       "F1-Score                                                                        0.754\n",
       "Accuracy                                                                        0.763\n",
       "Save Classification Report Fpath    modeling/models/EfficientNetB0-1/classificatio...\n",
       "Save History Fpath                       modeling/models/EfficientNetB0-1/history.png\n",
       "Save Confusion Matrix Fpath         modeling/models/EfficientNetB0-1/confusion_mat...\n",
       "Fit Time                                                               0:02:04.131142\n",
       "Model Save Fpath                                     modeling/models/EfficientNetB0-1\n",
       "Name: 1, dtype: object"
      ]
     },
     "execution_count": 166,
     "metadata": {},
     "output_type": "execute_result"
    }
   ],
   "source": [
    "best_model = logs_df.loc[1]\n",
    "best_model"
   ]
  },
  {
   "cell_type": "code",
   "execution_count": null,
   "metadata": {},
   "outputs": [],
   "source": []
  },
  {
   "cell_type": "code",
   "execution_count": 167,
   "metadata": {},
   "outputs": [
    {
     "name": "stdout",
     "output_type": "stream",
     "text": [
      "\n",
      "[i] Saved parsed logs to modeling/nn_training.csv\n"
     ]
    },
    {
     "data": {
      "text/html": [
       "<div>\n",
       "<style scoped>\n",
       "    .dataframe tbody tr th:only-of-type {\n",
       "        vertical-align: middle;\n",
       "    }\n",
       "\n",
       "    .dataframe tbody tr th {\n",
       "        vertical-align: top;\n",
       "    }\n",
       "\n",
       "    .dataframe thead th {\n",
       "        text-align: right;\n",
       "    }\n",
       "</style>\n",
       "<table border=\"1\" class=\"dataframe\">\n",
       "  <thead>\n",
       "    <tr style=\"text-align: right;\">\n",
       "      <th></th>\n",
       "      <th>Rank</th>\n",
       "      <th>Name</th>\n",
       "      <th>Precision</th>\n",
       "      <th>Recall</th>\n",
       "      <th>F1-Score</th>\n",
       "      <th>Accuracy</th>\n",
       "      <th>Fit Time</th>\n",
       "      <th>Model Save Fpath</th>\n",
       "    </tr>\n",
       "  </thead>\n",
       "  <tbody>\n",
       "    <tr>\n",
       "      <th>5</th>\n",
       "      <td>1</td>\n",
       "      <td>EfficientNetB0-1</td>\n",
       "      <td>0.772</td>\n",
       "      <td>0.769</td>\n",
       "      <td>0.754</td>\n",
       "      <td>0.763</td>\n",
       "      <td>0:02:04.131142</td>\n",
       "      <td>modeling/models/EfficientNetB0-1</td>\n",
       "    </tr>\n",
       "    <tr>\n",
       "      <th>4</th>\n",
       "      <td>2</td>\n",
       "      <td>VGG16-01</td>\n",
       "      <td>0.539</td>\n",
       "      <td>0.534</td>\n",
       "      <td>0.518</td>\n",
       "      <td>0.535</td>\n",
       "      <td>0:01:55.297751</td>\n",
       "      <td>modeling/models/VGG16-01</td>\n",
       "    </tr>\n",
       "    <tr>\n",
       "      <th>2</th>\n",
       "      <td>3</td>\n",
       "      <td>cnn1-fixed-lr</td>\n",
       "      <td>0.355</td>\n",
       "      <td>0.359</td>\n",
       "      <td>0.347</td>\n",
       "      <td>0.368</td>\n",
       "      <td>0:00:21.583943</td>\n",
       "      <td>modeling/models/cnn1-fixed-lr</td>\n",
       "    </tr>\n",
       "    <tr>\n",
       "      <th>3</th>\n",
       "      <td>3</td>\n",
       "      <td>cnn1-scheduled-lr</td>\n",
       "      <td>0.355</td>\n",
       "      <td>0.359</td>\n",
       "      <td>0.346</td>\n",
       "      <td>0.368</td>\n",
       "      <td>0:00:22.408392</td>\n",
       "      <td>modeling/models/cnn1-scheduled-lr</td>\n",
       "    </tr>\n",
       "    <tr>\n",
       "      <th>0</th>\n",
       "      <td>5</td>\n",
       "      <td>towards-data-science</td>\n",
       "      <td>0.386</td>\n",
       "      <td>0.318</td>\n",
       "      <td>0.316</td>\n",
       "      <td>0.342</td>\n",
       "      <td>0:01:43.888912</td>\n",
       "      <td>modeling/models/towards-data-science</td>\n",
       "    </tr>\n",
       "    <tr>\n",
       "      <th>1</th>\n",
       "      <td>6</td>\n",
       "      <td>towards-data-science_lr-schedule</td>\n",
       "      <td>0.312</td>\n",
       "      <td>0.288</td>\n",
       "      <td>0.271</td>\n",
       "      <td>0.294</td>\n",
       "      <td>0:04:23.701543</td>\n",
       "      <td>modeling/models/towards-data-science_lr-schedule</td>\n",
       "    </tr>\n",
       "  </tbody>\n",
       "</table>\n",
       "</div>"
      ],
      "text/plain": [
       "   Rank                              Name  Precision  Recall  F1-Score  \\\n",
       "5     1                  EfficientNetB0-1      0.772   0.769     0.754   \n",
       "4     2                          VGG16-01      0.539   0.534     0.518   \n",
       "2     3                     cnn1-fixed-lr      0.355   0.359     0.347   \n",
       "3     3                 cnn1-scheduled-lr      0.355   0.359     0.346   \n",
       "0     5              towards-data-science      0.386   0.318     0.316   \n",
       "1     6  towards-data-science_lr-schedule      0.312   0.288     0.271   \n",
       "\n",
       "   Accuracy        Fit Time                                  Model Save Fpath  \n",
       "5     0.763  0:02:04.131142                  modeling/models/EfficientNetB0-1  \n",
       "4     0.535  0:01:55.297751                          modeling/models/VGG16-01  \n",
       "2     0.368  0:00:21.583943                     modeling/models/cnn1-fixed-lr  \n",
       "3     0.368  0:00:22.408392                 modeling/models/cnn1-scheduled-lr  \n",
       "0     0.342  0:01:43.888912              modeling/models/towards-data-science  \n",
       "1     0.294  0:04:23.701543  modeling/models/towards-data-science_lr-schedule  "
      ]
     },
     "execution_count": 167,
     "metadata": {},
     "output_type": "execute_result"
    }
   ],
   "source": [
    "## PREPARE README TABLE\n",
    "logs_df = cf.logs.parse_log_file(FPATHS['modeling']['results_log'])\n",
    "# logs_df = parse_log_file(log_file,clean_results=True      )\n",
    "readme_logs = logs_df.drop(columns=['Start Time'], errors='ignore')\n",
    "readme_logs = readme_logs.sort_values('Accuracy', ascending=False)\n",
    "readme_logs.insert(0,'Rank',readme_logs['Accuracy'].rank(ascending=False).astype(int))\n",
    "# readme_logs = readme_logs.set_index(['Rank','Name'])\n",
    "readme_logs"
   ]
  },
  {
   "cell_type": "code",
   "execution_count": 168,
   "metadata": {
    "execution": {
     "iopub.execute_input": "2024-06-03T15:44:04.344240Z",
     "iopub.status.busy": "2024-06-03T15:44:04.344031Z",
     "iopub.status.idle": "2024-06-03T15:44:04.581111Z",
     "shell.execute_reply": "2024-06-03T15:44:04.580695Z",
     "shell.execute_reply.started": "2024-06-03T15:44:04.344227Z"
    }
   },
   "outputs": [],
   "source": [
    "# # Save best model results as vars\n",
    "# classification_logs_df.loc[1]"
   ]
  },
  {
   "cell_type": "code",
   "execution_count": null,
   "metadata": {
    "execution": {
     "iopub.execute_input": "2024-06-03T15:43:00.203869Z",
     "iopub.status.busy": "2024-06-03T15:43:00.203640Z",
     "iopub.status.idle": "2024-06-03T15:43:00.261727Z",
     "shell.execute_reply": "2024-06-03T15:43:00.261331Z",
     "shell.execute_reply.started": "2024-06-03T15:43:00.203847Z"
    }
   },
   "outputs": [],
   "source": []
  },
  {
   "cell_type": "code",
   "execution_count": 169,
   "metadata": {
    "execution": {
     "iopub.execute_input": "2024-06-03T15:40:02.878471Z",
     "iopub.status.busy": "2024-06-03T15:40:02.878281Z",
     "iopub.status.idle": "2024-06-03T15:40:02.905401Z",
     "shell.execute_reply": "2024-06-03T15:40:02.905009Z",
     "shell.execute_reply.started": "2024-06-03T15:40:02.878457Z"
    }
   },
   "outputs": [
    {
     "data": {
      "text/markdown": [
       "|   Rank | Name                             |   Precision |   Recall |   F1-Score |   Accuracy | Fit Time       | Model Save Fpath                                 |\n",
       "|-------:|:---------------------------------|------------:|---------:|-----------:|-----------:|:---------------|:-------------------------------------------------|\n",
       "|      1 | EfficientNetB0-1                 |       0.772 |    0.769 |      0.754 |      0.763 | 0:02:04.131142 | modeling/models/EfficientNetB0-1                 |\n",
       "|      2 | VGG16-01                         |       0.539 |    0.534 |      0.518 |      0.535 | 0:01:55.297751 | modeling/models/VGG16-01                         |\n",
       "|      3 | cnn1-fixed-lr                    |       0.355 |    0.359 |      0.347 |      0.368 | 0:00:21.583943 | modeling/models/cnn1-fixed-lr                    |\n",
       "|      3 | cnn1-scheduled-lr                |       0.355 |    0.359 |      0.346 |      0.368 | 0:00:22.408392 | modeling/models/cnn1-scheduled-lr                |\n",
       "|      5 | towards-data-science             |       0.386 |    0.318 |      0.316 |      0.342 | 0:01:43.888912 | modeling/models/towards-data-science             |\n",
       "|      6 | towards-data-science_lr-schedule |       0.312 |    0.288 |      0.271 |      0.294 | 0:04:23.701543 | modeling/models/towards-data-science_lr-schedule |"
      ],
      "text/plain": [
       "<IPython.core.display.Markdown object>"
      ]
     },
     "metadata": {},
     "output_type": "display_data"
    }
   ],
   "source": [
    "## save readme lgos\n",
    "results_md_file = FPATHS['readme']['results_table_md']\n",
    "readme_logs.to_markdown(results_md_file, index=False)\n",
    "\n",
    "with open(results_md_file,'r') as f:\n",
    "    display(Markdown(f.read()))"
   ]
  },
  {
   "cell_type": "markdown",
   "metadata": {},
   "source": [
    "### Save Figures for f-strings"
   ]
  },
  {
   "cell_type": "code",
   "execution_count": 170,
   "metadata": {
    "execution": {
     "iopub.execute_input": "2024-06-03T15:40:04.489532Z",
     "iopub.status.busy": "2024-06-03T15:40:04.489211Z",
     "iopub.status.idle": "2024-06-03T15:40:04.514877Z",
     "shell.execute_reply": "2024-06-03T15:40:04.514527Z",
     "shell.execute_reply.started": "2024-06-03T15:40:04.489518Z"
    }
   },
   "outputs": [
    {
     "data": {
      "text/plain": [
       "{'label-distrubtion-countplot_png': 'images/label-distribution-countplot.png',\n",
       " 'test-labels-distrubtion_png': 'images/test-label-distribution-countplot.png',\n",
       " 'example-images_png': 'images/ed_example_letters.png',\n",
       " 'lime-explanation_png': 'images/lime-explanation.png',\n",
       " 'lime-explanation-wrong_png': 'images/lime-explanation-wrong.png',\n",
       " 'lime-explanation-right_png': 'images/lime-explanation-right.png'}"
      ]
     },
     "execution_count": 170,
     "metadata": {},
     "output_type": "execute_result"
    }
   ],
   "source": [
    "FPATHS['eda']"
   ]
  },
  {
   "cell_type": "code",
   "execution_count": 171,
   "metadata": {
    "execution": {
     "iopub.execute_input": "2024-06-03T15:40:04.663355Z",
     "iopub.status.busy": "2024-06-03T15:40:04.663164Z",
     "iopub.status.idle": "2024-06-03T15:40:04.690243Z",
     "shell.execute_reply": "2024-06-03T15:40:04.689726Z",
     "shell.execute_reply.started": "2024-06-03T15:40:04.663342Z"
    }
   },
   "outputs": [
    {
     "name": "stdout",
     "output_type": "stream",
     "text": [
      "images/ed_example_letters.png images/label-distribution-countplot.png\n"
     ]
    }
   ],
   "source": [
    "# Save figure fpaths for f-strings\n",
    "eda_class_balance = FPATHS['eda']['label-distrubtion-countplot_png']\n",
    "eda_example_letters = FPATHS['eda']['example-images_png']\n",
    "print(eda_example_letters, eda_class_balance)"
   ]
  },
  {
   "cell_type": "code",
   "execution_count": 172,
   "metadata": {
    "execution": {
     "iopub.execute_input": "2024-06-03T15:40:04.833279Z",
     "iopub.status.busy": "2024-06-03T15:40:04.833075Z",
     "iopub.status.idle": "2024-06-03T15:40:04.859397Z",
     "shell.execute_reply": "2024-06-03T15:40:04.859048Z",
     "shell.execute_reply.started": "2024-06-03T15:40:04.833265Z"
    }
   },
   "outputs": [
    {
     "data": {
      "text/plain": [
       "'/Users/codingdojo/Documents/GitHub/_MY_PROJECTS/computer-vision-american-sign-language'"
      ]
     },
     "execution_count": 172,
     "metadata": {},
     "output_type": "execute_result"
    }
   ],
   "source": [
    "os.getcwd()"
   ]
  },
  {
   "cell_type": "code",
   "execution_count": 173,
   "metadata": {
    "execution": {
     "iopub.execute_input": "2024-06-03T15:40:04.979107Z",
     "iopub.status.busy": "2024-06-03T15:40:04.978921Z",
     "iopub.status.idle": "2024-06-03T15:40:05.006029Z",
     "shell.execute_reply": "2024-06-03T15:40:05.005588Z",
     "shell.execute_reply.started": "2024-06-03T15:40:04.979096Z"
    }
   },
   "outputs": [
    {
     "data": {
      "text/plain": [
       "(True, True)"
      ]
     },
     "execution_count": 173,
     "metadata": {},
     "output_type": "execute_result"
    }
   ],
   "source": [
    "os.path.exists(eda_class_balance),os.path.exists(eda_example_letters)"
   ]
  },
  {
   "cell_type": "markdown",
   "metadata": {},
   "source": [
    "## README CONTENT"
   ]
  },
  {
   "cell_type": "code",
   "execution_count": 174,
   "metadata": {
    "execution": {
     "iopub.execute_input": "2024-06-03T15:40:05.243925Z",
     "iopub.status.busy": "2024-06-03T15:40:05.243720Z",
     "iopub.status.idle": "2024-06-03T15:40:05.270210Z",
     "shell.execute_reply": "2024-06-03T15:40:05.269834Z",
     "shell.execute_reply.started": "2024-06-03T15:40:05.243913Z"
    }
   },
   "outputs": [
    {
     "data": {
      "text/markdown": [
       "\n",
       "# computer-vision-american-sign-language\n",
       "\n",
       "-  Last Updated: 06/03/2024\n",
       "\n",
       "<center><img src=\"images/American_Sign_Language_ASL.svg\" width=500px>\n",
       "<p>By Psiĥedelisto - Own work, Public Domain, <a href=\"https://commons.wikimedia.org/w/index.php?curid=53652991\">\"https://commons.wikimedia.org/w/index.php?curid=53652991</a><p>\n",
       "</center>\n",
       "\n",
       "## Description\n",
       "\n",
       "This project aims to develop a computer vision system for American Sign Language (ASL) recognition. \n",
       "\n",
       "\n",
       "### Goals \n",
       "> - **The first/primary goal is to create a model that can classify images of letters from the ASL alphabet (26-class multi-classification)**\n",
       "- Create a streamlit application that will accept an image and predict which letter it is.\n",
       "\n",
       "> - **The second, above-and-beyond goal is to use video as the input and add object detection.**\n",
       "\n",
       "### Features\n",
       "\n",
       "- ASL letter and word translation\n",
       "- User-friendly interface\n",
       "- Support for multiple hand gestures\n",
       "\n",
       "<center><img src=\"images/Sign_language_alphabet_(58).png\" width=500px style=\"border:solid black 1px\"> \n",
       "\n",
       "<p><a href=\"https://commons.wikimedia.org/wiki/File:Sign_language_alphabet_(58).png\">Image Source</a> </p>\n",
       "<p> Raziakhatun12, CC BY-SA 4.0 <https://creativecommons.org/licenses/by-sa/4.0>, via Wikimedia Commons</p>\n",
       "\n",
       "</center>\n",
       "\n",
       "\n",
       "\n",
       "\n",
       "## Data\n",
       "\n",
       "### Source/Download\n",
       "- Public Dataset from [Roboflow](https://public.roboflow.com/object-detection/american-sign-language-letters)\n",
       "\n",
       "\n",
       "To download:\n",
       "- Navigate to https://public.roboflow.com/object-detection/american-sign-language-letters\n",
       "- Click `->` for Downloads.\n",
       "- Select Format =  Multi-Label Classifiction\n",
       "- Download zip to computer\n",
       "\n",
       "\n",
       "### Data Details\n",
       "- 26 letters of the alphabet\n",
       "- J and Z are gesture-based letters and will likely be difficult to classify using static images.\n",
       "\n",
       "- Number of Images: 1731\n",
       "- Size: 416 x  416 \n",
       "- Channels: 3\n",
       "\n",
       "Example of Each letter:\n",
       "\n",
       "<img src=\"images/ed_example_letters.png\">\n",
       "\n",
       "\n",
       "## EDA\n",
       "\n",
       "\n",
       "\n",
       "### Class Balance\n",
       "\n",
       "\n",
       "\n",
       "\n",
       "<img src=\"images/label-distribution-countplot.png\">\n",
       "\n",
       "\n",
       "\n",
       "### Methods\n",
       "\n",
       "\n",
       "- Loading Images as a Tensorflow Dataset object.\n",
       "    - Image size: 128 x 128\n",
       "    - Batch size: 32   \n",
       "    - No data augmentation due to nature of sign language.\n",
       "\n",
       "- Constructing Convolutional Neural Networks in tensorflow.\n",
       "- Applying transfer learning with pretrained models\n",
       "- Explain image classifications using  Lime's ImageExplainer.\n",
       "\n",
       "\n"
      ],
      "text/plain": [
       "<IPython.core.display.Markdown object>"
      ]
     },
     "execution_count": 174,
     "metadata": {},
     "output_type": "execute_result"
    }
   ],
   "source": [
    "import datetime as dt\n",
    "intro= f\"\"\"\n",
    "# computer-vision-american-sign-language\n",
    "\n",
    "-  Last Updated: {dt.date.today().strftime(\"%m/%d/%Y\")}\n",
    "\n",
    "<center><img src=\"images/American_Sign_Language_ASL.svg\" width=500px>\n",
    "<p>By Psiĥedelisto - Own work, Public Domain, <a href=\"https://commons.wikimedia.org/w/index.php?curid=53652991\">\"https://commons.wikimedia.org/w/index.php?curid=53652991</a><p>\n",
    "</center>\n",
    "\n",
    "## Description\n",
    "\n",
    "This project aims to develop a computer vision system for American Sign Language (ASL) recognition. \n",
    "\n",
    "\n",
    "### Goals \n",
    "> - **The first/primary goal is to create a model that can classify images of letters from the ASL alphabet (26-class multi-classification)**\n",
    "- Create a streamlit application that will accept an image and predict which letter it is.\n",
    "\n",
    "> - **The second, above-and-beyond goal is to use video as the input and add object detection.**\n",
    "\n",
    "### Features\n",
    "\n",
    "- ASL letter and word translation\n",
    "- User-friendly interface\n",
    "- Support for multiple hand gestures\n",
    "\n",
    "<center><img src=\"images/Sign_language_alphabet_(58).png\" width=500px style=\"border:solid black 1px\"> \n",
    "\n",
    "<p><a href=\"https://commons.wikimedia.org/wiki/File:Sign_language_alphabet_(58).png\">Image Source</a> </p>\n",
    "<p> Raziakhatun12, CC BY-SA 4.0 <https://creativecommons.org/licenses/by-sa/4.0>, via Wikimedia Commons</p>\n",
    "\n",
    "</center>\n",
    "\n",
    "\n",
    "\n",
    "\n",
    "## Data\n",
    "\n",
    "### Source/Download\n",
    "- Public Dataset from [Roboflow](https://public.roboflow.com/object-detection/american-sign-language-letters)\n",
    "\n",
    "\n",
    "To download:\n",
    "- Navigate to https://public.roboflow.com/object-detection/american-sign-language-letters\n",
    "- Click `->` for Downloads.\n",
    "- Select Format =  Multi-Label Classifiction\n",
    "- Download zip to computer\n",
    "\n",
    "\n",
    "### Data Details\n",
    "- 26 letters of the alphabet\n",
    "- J and Z are gesture-based letters and will likely be difficult to classify using static images.\n",
    "\n",
    "- Number of Images: 1731\n",
    "- Size: 416 x  416 \n",
    "- Channels: 3\n",
    "\n",
    "Example of Each letter:\n",
    "\n",
    "<img src=\"{eda_example_letters}\">\n",
    "\n",
    "\n",
    "## EDA\n",
    "\n",
    "\n",
    "\n",
    "### Class Balance\n",
    "\n",
    "\n",
    "\n",
    "\n",
    "<img src=\"{eda_class_balance}\">\n",
    "\n",
    "\n",
    "\n",
    "### Methods\n",
    "\n",
    "\n",
    "- Loading Images as a Tensorflow Dataset object.\n",
    "    - Image size: 128 x 128\n",
    "    - Batch size: 32   \n",
    "    - No data augmentation due to nature of sign language.\n",
    "\n",
    "- Constructing Convolutional Neural Networks in tensorflow.\n",
    "- Applying transfer learning with pretrained models\n",
    "- Explain image classifications using  Lime's ImageExplainer.\n",
    "\n",
    "\n",
    "\"\"\"\n",
    "\n",
    "# #### TO DO:\n",
    "\n",
    "# - [x] Apply transfer learning\n",
    "# - [x] Save best model for deployment\n",
    "# = [ ] Apply LimeExplainer with best model.\n",
    "# - [ ] Tune the best architecture with keras tuner.\n",
    "# - [ ] Create a streamlit application for live inference.\n",
    "\n",
    "Markdown(intro)"
   ]
  },
  {
   "cell_type": "code",
   "execution_count": 175,
   "metadata": {
    "execution": {
     "iopub.execute_input": "2024-06-03T15:40:05.400326Z",
     "iopub.status.busy": "2024-06-03T15:40:05.400104Z",
     "iopub.status.idle": "2024-06-03T15:40:05.428419Z",
     "shell.execute_reply": "2024-06-03T15:40:05.427690Z",
     "shell.execute_reply.started": "2024-06-03T15:40:05.400311Z"
    }
   },
   "outputs": [
    {
     "data": {
      "text/markdown": [
       "\n",
       "# computer-vision-american-sign-language\n",
       "\n",
       "-  Last Updated: 06/03/2024\n",
       "\n",
       "<center><img src=\"images/American_Sign_Language_ASL.svg\" width=500px>\n",
       "<p>By Psiĥedelisto - Own work, Public Domain, <a href=\"https://commons.wikimedia.org/w/index.php?curid=53652991\">\"https://commons.wikimedia.org/w/index.php?curid=53652991</a><p>\n",
       "</center>\n",
       "\n",
       "## Description\n",
       "\n",
       "This project aims to develop a computer vision system for American Sign Language (ASL) recognition. \n",
       "\n",
       "\n",
       "### Goals \n",
       "> - **The first/primary goal is to create a model that can classify images of letters from the ASL alphabet (26-class multi-classification)**\n",
       "- Create a streamlit application that will accept an image and predict which letter it is.\n",
       "\n",
       "> - **The second, above-and-beyond goal is to use video as the input and add object detection.**\n",
       "\n",
       "### Features\n",
       "\n",
       "- ASL letter and word translation\n",
       "- User-friendly interface\n",
       "- Support for multiple hand gestures\n",
       "\n",
       "<center><img src=\"images/Sign_language_alphabet_(58).png\" width=500px style=\"border:solid black 1px\"> \n",
       "\n",
       "<p><a href=\"https://commons.wikimedia.org/wiki/File:Sign_language_alphabet_(58).png\">Image Source</a> </p>\n",
       "<p> Raziakhatun12, CC BY-SA 4.0 <https://creativecommons.org/licenses/by-sa/4.0>, via Wikimedia Commons</p>\n",
       "\n",
       "</center>\n",
       "\n",
       "\n",
       "\n",
       "\n",
       "## Data\n",
       "\n",
       "### Source/Download\n",
       "- Public Dataset from [Roboflow](https://public.roboflow.com/object-detection/american-sign-language-letters)\n",
       "\n",
       "\n",
       "To download:\n",
       "- Navigate to https://public.roboflow.com/object-detection/american-sign-language-letters\n",
       "- Click `->` for Downloads.\n",
       "- Select Format =  Multi-Label Classifiction\n",
       "- Download zip to computer\n",
       "\n",
       "\n",
       "### Data Details\n",
       "- 26 letters of the alphabet\n",
       "- J and Z are gesture-based letters and will likely be difficult to classify using static images.\n",
       "\n",
       "- Number of Images: 1731\n",
       "- Size: 416 x  416 \n",
       "- Channels: 3\n",
       "\n",
       "Example of Each letter:\n",
       "\n",
       "<img src=\"images/ed_example_letters.png\">\n",
       "\n",
       "\n",
       "## EDA\n",
       "\n",
       "\n",
       "\n",
       "### Class Balance\n",
       "\n",
       "\n",
       "\n",
       "\n",
       "<img src=\"images/label-distribution-countplot.png\">\n",
       "\n",
       "\n",
       "\n",
       "### Methods\n",
       "\n",
       "\n",
       "- Loading Images as a Tensorflow Dataset object.\n",
       "    - Image size: 128 x 128\n",
       "    - Batch size: 32   \n",
       "    - No data augmentation due to nature of sign language.\n",
       "\n",
       "- Constructing Convolutional Neural Networks in tensorflow.\n",
       "- Applying transfer learning with pretrained models\n",
       "- Explain image classifications using  Lime's ImageExplainer.\n",
       "\n",
       "\n"
      ],
      "text/plain": [
       "<IPython.core.display.Markdown object>"
      ]
     },
     "metadata": {},
     "output_type": "display_data"
    }
   ],
   "source": [
    "readme_part1_fpath = \"config/readme_part1.md\"\n",
    "\n",
    "with open(readme_part1_fpath, 'w') as f:\n",
    "    f.write(intro)\n",
    "\n",
    "with open(readme_part1_fpath) as f:\n",
    "\n",
    "    display(Markdown(f.read()))"
   ]
  },
  {
   "cell_type": "markdown",
   "metadata": {},
   "source": [
    "### Generate Resuls Programmatically from logs"
   ]
  },
  {
   "cell_type": "code",
   "execution_count": 176,
   "metadata": {
    "execution": {
     "iopub.execute_input": "2024-06-03T15:40:06.267606Z",
     "iopub.status.busy": "2024-06-03T15:40:06.267417Z",
     "iopub.status.idle": "2024-06-03T15:40:06.298079Z",
     "shell.execute_reply": "2024-06-03T15:40:06.297746Z",
     "shell.execute_reply.started": "2024-06-03T15:40:06.267592Z"
    }
   },
   "outputs": [],
   "source": [
    "# import pandas as pd\n",
    "# # pd.read_table(results_table_md)\n",
    "# readme_logs.set_index(\"Rank\")"
   ]
  },
  {
   "cell_type": "code",
   "execution_count": 177,
   "metadata": {
    "execution": {
     "iopub.execute_input": "2024-06-03T15:40:05.963760Z",
     "iopub.status.busy": "2024-06-03T15:40:05.963568Z",
     "iopub.status.idle": "2024-06-03T15:40:05.989572Z",
     "shell.execute_reply": "2024-06-03T15:40:05.989231Z",
     "shell.execute_reply.started": "2024-06-03T15:40:05.963747Z"
    }
   },
   "outputs": [
    {
     "data": {
      "text/plain": [
       "'|   Rank | Name                             |   Precision |   Recall |   F1-Score |   Accuracy | Fit Time       | Model Save Fpath                                 |\\n|-------:|:---------------------------------|------------:|---------:|-----------:|-----------:|:---------------|:-------------------------------------------------|\\n|      1 | EfficientNetB0-1                 |       0.772 |    0.769 |      0.754 |      0.763 | 0:02:04.131142 | modeling/models/EfficientNetB0-1                 |\\n|      2 | VGG16-01                         |       0.539 |    0.534 |      0.518 |      0.535 | 0:01:55.297751 | modeling/models/VGG16-01                         |\\n|      3 | cnn1-fixed-lr                    |       0.355 |    0.359 |      0.347 |      0.368 | 0:00:21.583943 | modeling/models/cnn1-fixed-lr                    |\\n|      3 | cnn1-scheduled-lr                |       0.355 |    0.359 |      0.346 |      0.368 | 0:00:22.408392 | modeling/models/cnn1-scheduled-lr                |\\n|      5 | towards-data-science             |       0.386 |    0.318 |      0.316 |      0.342 | 0:01:43.888912 | modeling/models/towards-data-science             |\\n|      6 | towards-data-science_lr-schedule |       0.312 |    0.288 |      0.271 |      0.294 | 0:04:23.701543 | modeling/models/towards-data-science_lr-schedule |'"
      ]
     },
     "execution_count": 177,
     "metadata": {},
     "output_type": "execute_result"
    }
   ],
   "source": [
    "with open(results_md_file,'r') as f:\n",
    "    results_table_md = f.read()\n",
    "\n",
    "results_table_md"
   ]
  },
  {
   "cell_type": "code",
   "execution_count": null,
   "metadata": {},
   "outputs": [],
   "source": []
  },
  {
   "cell_type": "markdown",
   "metadata": {},
   "source": [
    "#### Saving Best Model"
   ]
  },
  {
   "cell_type": "code",
   "execution_count": 178,
   "metadata": {},
   "outputs": [
    {
     "name": "stdout",
     "output_type": "stream",
     "text": [
      "\n",
      "[i] Saved parsed logs to modeling/nn_training.csv\n"
     ]
    },
    {
     "data": {
      "text/html": [
       "<div>\n",
       "<style scoped>\n",
       "    .dataframe tbody tr th:only-of-type {\n",
       "        vertical-align: middle;\n",
       "    }\n",
       "\n",
       "    .dataframe tbody tr th {\n",
       "        vertical-align: top;\n",
       "    }\n",
       "\n",
       "    .dataframe thead th {\n",
       "        text-align: right;\n",
       "    }\n",
       "</style>\n",
       "<table border=\"1\" class=\"dataframe\">\n",
       "  <thead>\n",
       "    <tr style=\"text-align: right;\">\n",
       "      <th></th>\n",
       "      <th>Start Time</th>\n",
       "      <th>Name</th>\n",
       "      <th>Precision</th>\n",
       "      <th>Recall</th>\n",
       "      <th>F1-Score</th>\n",
       "      <th>Accuracy</th>\n",
       "      <th>Save Classification Report Fpath</th>\n",
       "      <th>Save History Fpath</th>\n",
       "      <th>Save Confusion Matrix Fpath</th>\n",
       "      <th>Fit Time</th>\n",
       "      <th>Model Save Fpath</th>\n",
       "    </tr>\n",
       "    <tr>\n",
       "      <th>Rank</th>\n",
       "      <th></th>\n",
       "      <th></th>\n",
       "      <th></th>\n",
       "      <th></th>\n",
       "      <th></th>\n",
       "      <th></th>\n",
       "      <th></th>\n",
       "      <th></th>\n",
       "      <th></th>\n",
       "      <th></th>\n",
       "      <th></th>\n",
       "    </tr>\n",
       "  </thead>\n",
       "  <tbody>\n",
       "    <tr>\n",
       "      <th>5</th>\n",
       "      <td>06/03/2024 12:22:14</td>\n",
       "      <td>towards-data-science</td>\n",
       "      <td>0.386</td>\n",
       "      <td>0.318</td>\n",
       "      <td>0.316</td>\n",
       "      <td>0.342</td>\n",
       "      <td>modeling/models/towards-data-science/classific...</td>\n",
       "      <td>modeling/models/towards-data-science/history.png</td>\n",
       "      <td>modeling/models/towards-data-science/confusion...</td>\n",
       "      <td>0:01:43.888912</td>\n",
       "      <td>modeling/models/towards-data-science</td>\n",
       "    </tr>\n",
       "    <tr>\n",
       "      <th>6</th>\n",
       "      <td>06/03/2024 12:24:25</td>\n",
       "      <td>towards-data-science_lr-schedule</td>\n",
       "      <td>0.312</td>\n",
       "      <td>0.288</td>\n",
       "      <td>0.271</td>\n",
       "      <td>0.294</td>\n",
       "      <td>modeling/models/towards-data-science_lr-schedu...</td>\n",
       "      <td>modeling/models/towards-data-science_lr-schedu...</td>\n",
       "      <td>modeling/models/towards-data-science_lr-schedu...</td>\n",
       "      <td>0:04:23.701543</td>\n",
       "      <td>modeling/models/towards-data-science_lr-schedule</td>\n",
       "    </tr>\n",
       "    <tr>\n",
       "      <th>3</th>\n",
       "      <td>06/03/2024 12:28:55</td>\n",
       "      <td>cnn1-fixed-lr</td>\n",
       "      <td>0.355</td>\n",
       "      <td>0.359</td>\n",
       "      <td>0.347</td>\n",
       "      <td>0.368</td>\n",
       "      <td>modeling/models/cnn1-fixed-lr/classification_r...</td>\n",
       "      <td>modeling/models/cnn1-fixed-lr/history.png</td>\n",
       "      <td>modeling/models/cnn1-fixed-lr/confusion_matrix...</td>\n",
       "      <td>0:00:21.583943</td>\n",
       "      <td>modeling/models/cnn1-fixed-lr</td>\n",
       "    </tr>\n",
       "    <tr>\n",
       "      <th>3</th>\n",
       "      <td>06/03/2024 12:29:21</td>\n",
       "      <td>cnn1-scheduled-lr</td>\n",
       "      <td>0.355</td>\n",
       "      <td>0.359</td>\n",
       "      <td>0.346</td>\n",
       "      <td>0.368</td>\n",
       "      <td>modeling/models/cnn1-scheduled-lr/classificati...</td>\n",
       "      <td>modeling/models/cnn1-scheduled-lr/history.png</td>\n",
       "      <td>modeling/models/cnn1-scheduled-lr/confusion_ma...</td>\n",
       "      <td>0:00:22.408392</td>\n",
       "      <td>modeling/models/cnn1-scheduled-lr</td>\n",
       "    </tr>\n",
       "    <tr>\n",
       "      <th>2</th>\n",
       "      <td>06/03/2024 12:29:51</td>\n",
       "      <td>VGG16-01</td>\n",
       "      <td>0.539</td>\n",
       "      <td>0.534</td>\n",
       "      <td>0.518</td>\n",
       "      <td>0.535</td>\n",
       "      <td>modeling/models/VGG16-01/classification_report...</td>\n",
       "      <td>modeling/models/VGG16-01/history.png</td>\n",
       "      <td>modeling/models/VGG16-01/confusion_matrix.png</td>\n",
       "      <td>0:01:55.297751</td>\n",
       "      <td>modeling/models/VGG16-01</td>\n",
       "    </tr>\n",
       "    <tr>\n",
       "      <th>1</th>\n",
       "      <td>06/03/2024 12:31:58</td>\n",
       "      <td>EfficientNetB0-1</td>\n",
       "      <td>0.772</td>\n",
       "      <td>0.769</td>\n",
       "      <td>0.754</td>\n",
       "      <td>0.763</td>\n",
       "      <td>modeling/models/EfficientNetB0-1/classificatio...</td>\n",
       "      <td>modeling/models/EfficientNetB0-1/history.png</td>\n",
       "      <td>modeling/models/EfficientNetB0-1/confusion_mat...</td>\n",
       "      <td>0:02:04.131142</td>\n",
       "      <td>modeling/models/EfficientNetB0-1</td>\n",
       "    </tr>\n",
       "  </tbody>\n",
       "</table>\n",
       "</div>"
      ],
      "text/plain": [
       "               Start Time                              Name  Precision  \\\n",
       "Rank                                                                     \n",
       "5     06/03/2024 12:22:14              towards-data-science      0.386   \n",
       "6     06/03/2024 12:24:25  towards-data-science_lr-schedule      0.312   \n",
       "3     06/03/2024 12:28:55                     cnn1-fixed-lr      0.355   \n",
       "3     06/03/2024 12:29:21                 cnn1-scheduled-lr      0.355   \n",
       "2     06/03/2024 12:29:51                          VGG16-01      0.539   \n",
       "1     06/03/2024 12:31:58                  EfficientNetB0-1      0.772   \n",
       "\n",
       "      Recall  F1-Score  Accuracy  \\\n",
       "Rank                               \n",
       "5      0.318     0.316     0.342   \n",
       "6      0.288     0.271     0.294   \n",
       "3      0.359     0.347     0.368   \n",
       "3      0.359     0.346     0.368   \n",
       "2      0.534     0.518     0.535   \n",
       "1      0.769     0.754     0.763   \n",
       "\n",
       "                       Save Classification Report Fpath  \\\n",
       "Rank                                                      \n",
       "5     modeling/models/towards-data-science/classific...   \n",
       "6     modeling/models/towards-data-science_lr-schedu...   \n",
       "3     modeling/models/cnn1-fixed-lr/classification_r...   \n",
       "3     modeling/models/cnn1-scheduled-lr/classificati...   \n",
       "2     modeling/models/VGG16-01/classification_report...   \n",
       "1     modeling/models/EfficientNetB0-1/classificatio...   \n",
       "\n",
       "                                     Save History Fpath  \\\n",
       "Rank                                                      \n",
       "5      modeling/models/towards-data-science/history.png   \n",
       "6     modeling/models/towards-data-science_lr-schedu...   \n",
       "3             modeling/models/cnn1-fixed-lr/history.png   \n",
       "3         modeling/models/cnn1-scheduled-lr/history.png   \n",
       "2                  modeling/models/VGG16-01/history.png   \n",
       "1          modeling/models/EfficientNetB0-1/history.png   \n",
       "\n",
       "                            Save Confusion Matrix Fpath        Fit Time  \\\n",
       "Rank                                                                      \n",
       "5     modeling/models/towards-data-science/confusion...  0:01:43.888912   \n",
       "6     modeling/models/towards-data-science_lr-schedu...  0:04:23.701543   \n",
       "3     modeling/models/cnn1-fixed-lr/confusion_matrix...  0:00:21.583943   \n",
       "3     modeling/models/cnn1-scheduled-lr/confusion_ma...  0:00:22.408392   \n",
       "2         modeling/models/VGG16-01/confusion_matrix.png  0:01:55.297751   \n",
       "1     modeling/models/EfficientNetB0-1/confusion_mat...  0:02:04.131142   \n",
       "\n",
       "                                      Model Save Fpath  \n",
       "Rank                                                    \n",
       "5                 modeling/models/towards-data-science  \n",
       "6     modeling/models/towards-data-science_lr-schedule  \n",
       "3                        modeling/models/cnn1-fixed-lr  \n",
       "3                    modeling/models/cnn1-scheduled-lr  \n",
       "2                             modeling/models/VGG16-01  \n",
       "1                     modeling/models/EfficientNetB0-1  "
      ]
     },
     "execution_count": 178,
     "metadata": {},
     "output_type": "execute_result"
    }
   ],
   "source": [
    "logs_df = cf.logs.parse_log_file(FPATHS['modeling']['results_log'],clean_results=True, remove_fpaths=False)\n",
    "logs_df.insert(0,'Rank',logs_df['Accuracy'].rank(ascending=False).astype(int))\n",
    "logs_df = logs_df.set_index(\"Rank\")\n",
    "logs_df\n",
    "logs_df\n"
   ]
  },
  {
   "cell_type": "code",
   "execution_count": 179,
   "metadata": {},
   "outputs": [
    {
     "data": {
      "text/plain": [
       "Start Time                                                        06/03/2024 12:31:58\n",
       "Name                                                                 EfficientNetB0-1\n",
       "Precision                                                                       0.772\n",
       "Recall                                                                          0.769\n",
       "F1-Score                                                                        0.754\n",
       "Accuracy                                                                        0.763\n",
       "Save Classification Report Fpath    modeling/models/EfficientNetB0-1/classificatio...\n",
       "Save History Fpath                       modeling/models/EfficientNetB0-1/history.png\n",
       "Save Confusion Matrix Fpath         modeling/models/EfficientNetB0-1/confusion_mat...\n",
       "Fit Time                                                               0:02:04.131142\n",
       "Model Save Fpath                                     modeling/models/EfficientNetB0-1\n",
       "Name: 1, dtype: object"
      ]
     },
     "execution_count": 179,
     "metadata": {},
     "output_type": "execute_result"
    }
   ],
   "source": [
    "best_model = logs_df.loc[1]\n",
    "best_model"
   ]
  },
  {
   "cell_type": "code",
   "execution_count": 180,
   "metadata": {},
   "outputs": [],
   "source": [
    "# os.getcwd()"
   ]
  },
  {
   "cell_type": "code",
   "execution_count": 181,
   "metadata": {},
   "outputs": [],
   "source": [
    "# os.path.exists('modeling/models/towards-data-science_lr-schedule/classification_report.txt')"
   ]
  },
  {
   "cell_type": "code",
   "execution_count": 182,
   "metadata": {},
   "outputs": [
    {
     "data": {
      "text/plain": [
       "dict_keys(['classification_report', 'history_fig', 'confusion_matrix_fig'])"
      ]
     },
     "execution_count": 182,
     "metadata": {},
     "output_type": "execute_result"
    },
    {
     "data": {
      "image/png": "[encoded data removed]",
      "text/plain": [
       "<Figure size 640x480 with 1 Axes>"
      ]
     },
     "metadata": {},
     "output_type": "display_data"
    },
    {
     "data": {
      "image/png": "[encoded data removed]",
      "text/plain": [
       "<Figure size 640x480 with 1 Axes>"
      ]
     },
     "metadata": {},
     "output_type": "display_data"
    }
   ],
   "source": [
    "results = cf.logs.load_model_results(best_model[\"Name\"], model_directory = FPATHS['modeling']['model_dir'],load_model=False)\n",
    "results.keys()"
   ]
  },
  {
   "cell_type": "code",
   "execution_count": 183,
   "metadata": {},
   "outputs": [
    {
     "data": {
      "text/plain": [
       "'modeling/models/EfficientNetB0-1'"
      ]
     },
     "execution_count": 183,
     "metadata": {},
     "output_type": "execute_result"
    }
   ],
   "source": [
    "best_model['Model Save Fpath']"
   ]
  },
  {
   "cell_type": "code",
   "execution_count": 184,
   "metadata": {},
   "outputs": [],
   "source": [
    "# results = cf.logs.load_model_results()"
   ]
  },
  {
   "cell_type": "code",
   "execution_count": 185,
   "metadata": {},
   "outputs": [
    {
     "data": {
      "text/plain": [
       "'modeling/models/EfficientNetB0-1/confusion_matrix.png'"
      ]
     },
     "execution_count": 185,
     "metadata": {},
     "output_type": "execute_result"
    }
   ],
   "source": [
    "best_model_name = best_model['Name']\n",
    "best_model_history_fpath= best_model['Save History Fpath']\n",
    "best_model_classification_report_fpath =best_model['Save Classification Report Fpath']\n",
    "with open(best_model_classification_report_fpath) as f:\n",
    "    \n",
    "    best_model_classification_report = f.read()\n",
    "    \n",
    "best_model_confusion_matrix_fpath =  best_model[\"Save Confusion Matrix Fpath\"]\n",
    "best_model_confusion_matrix_fpath"
   ]
  },
  {
   "cell_type": "code",
   "execution_count": 186,
   "metadata": {},
   "outputs": [
    {
     "data": {
      "text/plain": [
       "True"
      ]
     },
     "execution_count": 186,
     "metadata": {},
     "output_type": "execute_result"
    }
   ],
   "source": [
    "os.path.exists(best_model_confusion_matrix_fpath)"
   ]
  },
  {
   "cell_type": "code",
   "execution_count": 187,
   "metadata": {},
   "outputs": [
    {
     "data": {
      "text/plain": [
       "'modeling/models/EfficientNetB0-1/history.png'"
      ]
     },
     "execution_count": 187,
     "metadata": {},
     "output_type": "execute_result"
    }
   ],
   "source": [
    "best_model_history_fpath"
   ]
  },
  {
   "cell_type": "markdown",
   "metadata": {},
   "source": [
    "<img src='modeling/models/cnn1-fixed-lr/history.png'>"
   ]
  },
  {
   "cell_type": "code",
   "execution_count": 193,
   "metadata": {
    "execution": {
     "iopub.execute_input": "2024-06-03T15:40:06.714769Z",
     "iopub.status.busy": "2024-06-03T15:40:06.714509Z",
     "iopub.status.idle": "2024-06-03T15:40:06.741655Z",
     "shell.execute_reply": "2024-06-03T15:40:06.741091Z",
     "shell.execute_reply.started": "2024-06-03T15:40:06.714748Z"
    }
   },
   "outputs": [],
   "source": [
    "## OLD/CURRENT REULTS\n",
    "\n",
    "results= f\"\"\"\n",
    "## Results\n",
    "\n",
    "{results_table_md}\n",
    "\n",
    "### Best Model\n",
    "\n",
    "- {best_model_name}\n",
    "\n",
    "\n",
    "#### Test Results\n",
    "\n",
    "\n",
    "<img src=\"{best_model_history_fpath}\">\n",
    "\n",
    "```\n",
    "{best_model_classification_report}\n",
    "```\n",
    "\n",
    "\n",
    "<img src=\"{best_model_confusion_matrix_fpath}\">\n",
    "\n",
    "\n",
    "#### Example Explanations for Model Predictions (Comging Soon!)\n",
    "> Placeholder for example explanation of correctly classified image.\n",
    "> Placeholder for example explanation of incorrectly classified image.\n",
    "> Placeholder for example explanation of the 2 clases most often confused for each other.\n",
    "\"\"\"\n",
    "Markdown(results)\n",
    "# <img src=\"images/best_model_results_bar.png\">\n",
    "readme_part2_fpath = 'config/readme_part2_results.md'\n",
    "with open(readme_part2_fpath,'w') as f:\n",
    "    f.write(results)"
   ]
  },
  {
   "cell_type": "markdown",
   "metadata": {},
   "source": [
    "### Part 3/Conclusion"
   ]
  },
  {
   "cell_type": "code",
   "execution_count": 189,
   "metadata": {},
   "outputs": [],
   "source": [
    "conclusion =\"\"\"### To Dos:\n",
    "- [x] Apply transfer learning\n",
    "- [ ] Save best model for deployment `[Fix issue with EfficientNet and current tensorlfow!]`\n",
    "- [ ] Tune the best architecture with keras tuner.\n",
    "- [ ] Apply LimeExplainer with best model. \n",
    "\n",
    "- [ ] Deploy a streamlit application for live inference from images. \n",
    "\n",
    "\n",
    "### Future Work\n",
    ">There are many more iterations to test for this task:\n",
    "- [ ] Does image augmentation help the models?\n",
    "- [ ] Does adding additional hiddden layers on top of EfficientNet improve performance?\n",
    "- [ ] Does allowing the transfer learning models to train the convolutional base improve performance?\n",
    "\n",
    "\n",
    "> **The next level of complextiy would be to add object detection for hands, followed by sign classification.**\n",
    "\n",
    "## Summary\n",
    "This project demonstrates proof-of-concept work classifying ASL alphabetical characters. Working with a 26-label classification model is tricky, but pales in comparison to what would be required to interpert whole ASL words.\n",
    "\n",
    "\n",
    "\"\"\""
   ]
  },
  {
   "cell_type": "code",
   "execution_count": 190,
   "metadata": {},
   "outputs": [],
   "source": [
    "readme_part3_fpath = 'config/readme_part3_results.md'\n",
    "with open(readme_part3_fpath,'w') as f:\n",
    "    f.write(conclusion)"
   ]
  },
  {
   "cell_type": "markdown",
   "metadata": {},
   "source": [
    "# Combine Into Final README"
   ]
  },
  {
   "cell_type": "code",
   "execution_count": 191,
   "metadata": {},
   "outputs": [
    {
     "data": {
      "text/markdown": [
       "\n",
       "\n",
       "# computer-vision-american-sign-language\n",
       "\n",
       "-  Last Updated: 06/03/2024\n",
       "\n",
       "<center><img src=\"images/American_Sign_Language_ASL.svg\" width=500px>\n",
       "<p>By Psiĥedelisto - Own work, Public Domain, <a href=\"https://commons.wikimedia.org/w/index.php?curid=53652991\">\"https://commons.wikimedia.org/w/index.php?curid=53652991</a><p>\n",
       "</center>\n",
       "\n",
       "## Description\n",
       "\n",
       "This project aims to develop a computer vision system for American Sign Language (ASL) recognition. \n",
       "\n",
       "\n",
       "### Goals \n",
       "> - **The first/primary goal is to create a model that can classify images of letters from the ASL alphabet (26-class multi-classification)**\n",
       "- Create a streamlit application that will accept an image and predict which letter it is.\n",
       "\n",
       "> - **The second, above-and-beyond goal is to use video as the input and add object detection.**\n",
       "\n",
       "### Features\n",
       "\n",
       "- ASL letter and word translation\n",
       "- User-friendly interface\n",
       "- Support for multiple hand gestures\n",
       "\n",
       "<center><img src=\"images/Sign_language_alphabet_(58).png\" width=500px style=\"border:solid black 1px\"> \n",
       "\n",
       "<p><a href=\"https://commons.wikimedia.org/wiki/File:Sign_language_alphabet_(58).png\">Image Source</a> </p>\n",
       "<p> Raziakhatun12, CC BY-SA 4.0 <https://creativecommons.org/licenses/by-sa/4.0>, via Wikimedia Commons</p>\n",
       "\n",
       "</center>\n",
       "\n",
       "\n",
       "\n",
       "\n",
       "## Data\n",
       "\n",
       "### Source/Download\n",
       "- Public Dataset from [Roboflow](https://public.roboflow.com/object-detection/american-sign-language-letters)\n",
       "\n",
       "\n",
       "To download:\n",
       "- Navigate to https://public.roboflow.com/object-detection/american-sign-language-letters\n",
       "- Click `->` for Downloads.\n",
       "- Select Format =  Multi-Label Classifiction\n",
       "- Download zip to computer\n",
       "\n",
       "\n",
       "### Data Details\n",
       "- 26 letters of the alphabet\n",
       "- J and Z are gesture-based letters and will likely be difficult to classify using static images.\n",
       "\n",
       "- Number of Images: 1731\n",
       "- Size: 416 x  416 \n",
       "- Channels: 3\n",
       "\n",
       "Example of Each letter:\n",
       "\n",
       "<img src=\"images/ed_example_letters.png\">\n",
       "\n",
       "\n",
       "## EDA\n",
       "\n",
       "\n",
       "\n",
       "### Class Balance\n",
       "\n",
       "\n",
       "\n",
       "\n",
       "<img src=\"images/label-distribution-countplot.png\">\n",
       "\n",
       "\n",
       "\n",
       "### Methods\n",
       "\n",
       "\n",
       "- Loading Images as a Tensorflow Dataset object.\n",
       "    - Image size: 128 x 128\n",
       "    - Batch size: 32   \n",
       "    - No data augmentation due to nature of sign language.\n",
       "\n",
       "- Constructing Convolutional Neural Networks in tensorflow.\n",
       "- Applying transfer learning with pretrained models\n",
       "- Explain image classifications using  Lime's ImageExplainer.\n",
       "\n",
       "\n",
       "\n",
       "\n",
       "## Results\n",
       "\n",
       "|   Rank | Name                             |   Precision |   Recall |   F1-Score |   Accuracy | Fit Time       | Model Save Fpath                                 |\n",
       "|-------:|:---------------------------------|------------:|---------:|-----------:|-----------:|:---------------|:-------------------------------------------------|\n",
       "|      1 | EfficientNetB0-1                 |       0.772 |    0.769 |      0.754 |      0.763 | 0:02:04.131142 | modeling/models/EfficientNetB0-1                 |\n",
       "|      2 | VGG16-01                         |       0.539 |    0.534 |      0.518 |      0.535 | 0:01:55.297751 | modeling/models/VGG16-01                         |\n",
       "|      3 | cnn1-fixed-lr                    |       0.355 |    0.359 |      0.347 |      0.368 | 0:00:21.583943 | modeling/models/cnn1-fixed-lr                    |\n",
       "|      3 | cnn1-scheduled-lr                |       0.355 |    0.359 |      0.346 |      0.368 | 0:00:22.408392 | modeling/models/cnn1-scheduled-lr                |\n",
       "|      5 | towards-data-science             |       0.386 |    0.318 |      0.316 |      0.342 | 0:01:43.888912 | modeling/models/towards-data-science             |\n",
       "|      6 | towards-data-science_lr-schedule |       0.312 |    0.288 |      0.271 |      0.294 | 0:04:23.701543 | modeling/models/towards-data-science_lr-schedule |\n",
       "\n",
       "### Best Model\n",
       "\n",
       "- EfficientNetB0-1\n",
       "\n",
       "\n",
       "#### Test Results\n",
       "\n",
       "\n",
       "<img src=\"modeling/models/EfficientNetB0-1/history.png\">\n",
       "\n",
       "```\n",
       "--------------------------------------------------------------------------------\n",
       " Classification Metrics: Test Data \n",
       "--------------------------------------------------------------------------------\n",
       "              precision    recall  f1-score   support\n",
       "\n",
       "           A       1.00      1.00      1.00        13\n",
       "           B       0.75      0.60      0.67         5\n",
       "           C       1.00      0.70      0.82        10\n",
       "           D       0.67      0.67      0.67         9\n",
       "           E       0.89      0.89      0.89         9\n",
       "           F       0.75      0.43      0.55         7\n",
       "           G       0.77      1.00      0.87        10\n",
       "           H       0.86      0.60      0.71        10\n",
       "           I       0.69      0.53      0.60        17\n",
       "           J       0.67      1.00      0.80         6\n",
       "           K       1.00      1.00      1.00         5\n",
       "           L       0.82      0.82      0.82        11\n",
       "           M       0.40      0.40      0.40         5\n",
       "           N       0.78      0.58      0.67        12\n",
       "           O       0.70      0.88      0.78         8\n",
       "           P       1.00      0.45      0.62        11\n",
       "           Q       0.78      0.78      0.78         9\n",
       "           R       0.50      0.83      0.62         6\n",
       "           S       0.87      1.00      0.93        13\n",
       "           T       1.00      0.71      0.83         7\n",
       "           U       0.67      0.67      0.67         6\n",
       "           V       0.64      0.82      0.72        11\n",
       "           W       0.60      0.86      0.71         7\n",
       "           X       0.54      0.78      0.64         9\n",
       "           Y       0.75      1.00      0.86         3\n",
       "           Z       1.00      1.00      1.00         9\n",
       "\n",
       "    accuracy                           0.76       228\n",
       "   macro avg       0.77      0.77      0.75       228\n",
       "weighted avg       0.79      0.76      0.76       228\n",
       "\n",
       "--------------------------------------------------------------------------------\n",
       "```\n",
       "\n",
       "\n",
       "<img src=\"modeling/models/EfficientNetB0-1/confusion_matrix.png\">\n",
       "\n",
       "\n",
       "#### Example Explanationsfor Model Predictions (Comging Soon!)\n",
       "> Placeholder for example explanation of correctly classified image\n",
       "> Placeholder for example explanation of incorrectly classified image\n",
       "> Placeholder for example explanation of the 2 clases most often confused for each other.\n",
       "\n",
       "### To Dos:\n",
       "- [x] Apply transfer learning\n",
       "- [ ] Save best model for deployment `[Fix issue with EfficientNet and current tensorlfow!]`\n",
       "- [ ] Tune the best architecture with keras tuner.\n",
       "- [ ] Apply LimeExplainer with best model. \n",
       "\n",
       "- [ ] Deploy a streamlit application for live inference from images. \n",
       "\n",
       "\n",
       "### Future Work\n",
       ">There are many more iterations to test for this task:\n",
       "- [ ] Does image augmentation help the models?\n",
       "- [ ] Does adding additional hiddden layers on top of EfficientNet improve performance\n",
       "- [ ] Does allowing the transfer learning models to train the convolutional base improve performance?\n",
       "\n",
       "> **The next level of complextiy would be to add object detection for hands, followed by sign classification.**\n",
       "## Summary\n",
       "This project demonstrates proof-of-concept work classifying ASL alphabetical characters. Working with a 26-label classification model is tricky, but pales in comparison to what would be required to interpert whole ASL words.\n",
       "\n",
       "\n"
      ],
      "text/plain": [
       "<IPython.core.display.Markdown object>"
      ]
     },
     "metadata": {},
     "output_type": "display_data"
    }
   ],
   "source": [
    "files_to_merge=  [readme_part1_fpath, readme_part2_fpath, readme_part3_fpath]\n",
    "readme_text = \"\"\n",
    "for file in files_to_merge:\n",
    "    with open(file) as f:\n",
    "        text = f.read()\n",
    "        readme_text+=\"\\n\"+text\n",
    "display(Markdown(readme_text))"
   ]
  },
  {
   "cell_type": "code",
   "execution_count": 192,
   "metadata": {},
   "outputs": [
    {
     "name": "stdout",
     "output_type": "stream",
     "text": [
      "Saving README\n"
     ]
    }
   ],
   "source": [
    "if '.git' in os.listdir():\n",
    "    print(\"Saving README\")\n",
    "    with open(\"README.md\",'w') as f:\n",
    "        f.write(readme_text)\n",
    "else:\n",
    "    raise Exception(\".git not found\")"
   ]
  },
  {
   "cell_type": "code",
   "execution_count": null,
   "metadata": {},
   "outputs": [],
   "source": []
  },
  {
   "cell_type": "code",
   "execution_count": null,
   "metadata": {},
   "outputs": [],
   "source": []
  }
 ],
 "metadata": {
  "kernelspec": {
   "display_name": "dojo-env",
   "language": "python",
   "name": "python3"
  },
  "language_info": {
   "codemirror_mode": {
    "name": "ipython",
    "version": 3
   },
   "file_extension": ".py",
   "mimetype": "text/x-python",
   "name": "python",
   "nbconvert_exporter": "python",
   "pygments_lexer": "ipython3",
   "version": "3.10.10"
  }
 },
 "nbformat": 4,
 "nbformat_minor": 4
}
