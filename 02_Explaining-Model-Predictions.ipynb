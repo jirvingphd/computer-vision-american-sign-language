{
 "cells": [
  {
   "cell_type": "code",
   "execution_count": 11,
   "metadata": {},
   "outputs": [
    {
     "data": {
      "text/plain": [
       "'2.12.0'"
      ]
     },
     "execution_count": 11,
     "metadata": {},
     "output_type": "execute_result"
    }
   ],
   "source": [
    "import numpy as np\n",
    "import tensorflow as tf\n",
    "\n",
    "# Set the seed for NumPy\n",
    "np.random.seed(42)\n",
    "\n",
    "# Set the seed for TensorFlow\n",
    "tf.random.set_seed(42)\n",
    "\n",
    "import pandas as pd\n",
    "import os, glob\n",
    "import matplotlib.pyplot as plt\n",
    "import seaborn as sns\n",
    "import numpy as np\n",
    "import PIL\n",
    "\n",
    "import tensorflow as tf\n",
    "from tensorflow.keras.utils import load_img, img_to_array, array_to_img\n",
    "from tensorflow.keras import layers, models, optimizers\n",
    "from tensorflow.keras.utils import to_categorical\n",
    "\n",
    "\n",
    "tf.__version__"
   ]
  },
  {
   "cell_type": "code",
   "execution_count": 12,
   "metadata": {},
   "outputs": [
    {
     "name": "stdout",
     "output_type": "stream",
     "text": [
      "Help on package custom_functions:\n",
      "\n",
      "NAME\n",
      "    custom_functions\n",
      "\n",
      "PACKAGE CONTENTS\n",
      "    ann_functions\n",
      "    capture_output\n",
      "    fileinfo\n",
      "    model_logging\n",
      "    quantize_model\n",
      "    utils\n",
      "\n",
      "SUBMODULES\n",
      "    capture\n",
      "    logs\n",
      "    quantize\n",
      "\n",
      "FUNCTIONS\n",
      "    show_code(function)\n",
      "        Uses the inspect module to retrieve the source code for a function.\n",
      "        Displays the code as Python-syntax Markdown code.\n",
      "        \n",
      "        Note: Python highlighting may not work correctly on some editors.\n",
      "        \n",
      "        Parameters:\n",
      "        function (callable): The function for which to display the source code.\n",
      "        \n",
      "        Returns:\n",
      "        None\n",
      "\n",
      "FILE\n",
      "    /Users/codingdojo/Documents/GitHub/_MY_PROJECTS/computer-vision-american-sign-language/custom_functions/__init__.py\n",
      "\n",
      "\n"
     ]
    }
   ],
   "source": [
    "# Custom functions:\n",
    "%load_ext autoreload\n",
    "%autoreload 2\n",
    "# sys.path.append(os.path.abspath(\"../../\"))\n",
    "import custom_functions as cf\n",
    "help(cf)\n"
   ]
  },
  {
   "cell_type": "code",
   "execution_count": 13,
   "metadata": {},
   "outputs": [
    {
     "name": "stdout",
     "output_type": "stream",
     "text": [
      "\n",
      "[i] Loaded FPATHS from config/filepaths.json\n"
     ]
    },
    {
     "data": {
      "text/plain": [
       "dict_keys(['data', 'images', 'eda', 'modeling', 'readme'])"
      ]
     },
     "execution_count": 13,
     "metadata": {},
     "output_type": "execute_result"
    }
   ],
   "source": [
    "\n",
    "import json, os\n",
    "from pprint import pprint\n",
    "\n",
    "# Define filename for project config filepaths json file\n",
    "FPATHS_FILE = \"config/filepaths.json\"\n",
    "\n",
    "## Save the filepaths\n",
    "with open(FPATHS_FILE, \"r\") as f:\n",
    "    FPATHS = json.load(f)\n",
    "    print(f\"\\n[i] Loaded FPATHS from {FPATHS_FILE}\")\n",
    "FPATHS.keys()"
   ]
  },
  {
   "cell_type": "code",
   "execution_count": 14,
   "metadata": {},
   "outputs": [
    {
     "name": "stdout",
     "output_type": "stream",
     "text": [
      "\n",
      "[i] Loaded params from modeling/params.json\n"
     ]
    },
    {
     "data": {
      "text/plain": [
       "{'BATCH_SIZE': 32,\n",
       " 'IMG_HEIGHT': 128,\n",
       " 'IMG_WIDTH': 128,\n",
       " 'TRAIN_SPLIT': 0.7,\n",
       " 'VAL_SPLIT': 0.15,\n",
       " 'PATIENCE': 5,\n",
       " 'RESTORE_BEST_WEIGHTS': True,\n",
       " 'EPOCHS': 100}"
      ]
     },
     "execution_count": 14,
     "metadata": {},
     "output_type": "execute_result"
    }
   ],
   "source": [
    "# Load params used\n",
    "PARAMS_FILE = FPATHS['modeling']['params']\n",
    "\n",
    "with open(PARAMS_FILE, \"r\") as f:\n",
    "    PARAMS = json.load(f)\n",
    "    print(f\"\\n[i] Loaded params from {PARAMS_FILE}\")\n",
    "PARAMS"
   ]
  },
  {
   "cell_type": "code",
   "execution_count": 16,
   "metadata": {},
   "outputs": [
    {
     "data": {
      "text/plain": [
       "{'model_dir': 'modeling/models/',\n",
       " 'results_log': 'modeling/nn_training.log',\n",
       " 'results_log_csv': 'modeling/nn_training.csv',\n",
       " 'train-dataset_dir': 'modeling/data/training-data-tf/',\n",
       " 'val-dataset_dir': 'modeling/data/validation-data-tf/',\n",
       " 'test-dataset_dir': 'modeling/data/testing-data-tf/',\n",
       " 'params': 'modeling/params.json',\n",
       " 'label-lookup_json': 'modeling/label_lookup.json'}"
      ]
     },
     "execution_count": 16,
     "metadata": {},
     "output_type": "execute_result"
    }
   ],
   "source": [
    "FPATHS['modeling']"
   ]
  },
  {
   "cell_type": "code",
   "execution_count": 15,
   "metadata": {},
   "outputs": [
    {
     "name": "stdout",
     "output_type": "stream",
     "text": [
      "Metal device set to: Apple M1 Pro\n",
      "\n",
      "systemMemory: 32.00 GB\n",
      "maxCacheSize: 10.67 GB\n",
      "\n"
     ]
    },
    {
     "data": {
      "text/plain": [
       "<_LoadDataset element_spec=(TensorSpec(shape=(None, 128, 128, 3), dtype=tf.float32, name=None), TensorSpec(shape=(None, 26), dtype=tf.float64, name=None))>"
      ]
     },
     "execution_count": 15,
     "metadata": {},
     "output_type": "execute_result"
    }
   ],
   "source": [
    "\n",
    "\n",
    "train_dataset = tf.data.Dataset.load(FPATHS['modeling']['train-dataset_dir'])\n",
    "val_dataset = tf.data.Dataset.load(FPATHS['modeling']['validation-dataset_dir'])\n",
    "test_dataset = tf.data.Dataset.load(FPATHS['modeling']['test-dataset_dir'])\n",
    "\n",
    "for example\n",
    " "
   ]
  },
  {
   "cell_type": "code",
   "execution_count": 18,
   "metadata": {},
   "outputs": [
    {
     "name": "stdout",
     "output_type": "stream",
     "text": [
      "\n",
      "[i] Saved parsed logs to modeling/nn_training.csv\n"
     ]
    },
    {
     "data": {
      "text/html": [
       "<div>\n",
       "<style scoped>\n",
       "    .dataframe tbody tr th:only-of-type {\n",
       "        vertical-align: middle;\n",
       "    }\n",
       "\n",
       "    .dataframe tbody tr th {\n",
       "        vertical-align: top;\n",
       "    }\n",
       "\n",
       "    .dataframe thead th {\n",
       "        text-align: right;\n",
       "    }\n",
       "</style>\n",
       "<table border=\"1\" class=\"dataframe\">\n",
       "  <thead>\n",
       "    <tr style=\"text-align: right;\">\n",
       "      <th></th>\n",
       "      <th>Start Time</th>\n",
       "      <th>Name</th>\n",
       "      <th>Precision</th>\n",
       "      <th>Recall</th>\n",
       "      <th>F1-Score</th>\n",
       "      <th>Accuracy</th>\n",
       "      <th>Fit Time</th>\n",
       "      <th>Model Save Fpath</th>\n",
       "    </tr>\n",
       "  </thead>\n",
       "  <tbody>\n",
       "    <tr>\n",
       "      <th>0</th>\n",
       "      <td>06/05/2024 15:11:34</td>\n",
       "      <td>towards-data-science-blog</td>\n",
       "      <td>0.570</td>\n",
       "      <td>0.542</td>\n",
       "      <td>0.516</td>\n",
       "      <td>0.548</td>\n",
       "      <td>0:01:06.578927</td>\n",
       "      <td>modeling/models/towards-data-science-blog</td>\n",
       "    </tr>\n",
       "    <tr>\n",
       "      <th>1</th>\n",
       "      <td>06/05/2024 15:12:51</td>\n",
       "      <td>cnn1-fixed-lr</td>\n",
       "      <td>0.367</td>\n",
       "      <td>0.395</td>\n",
       "      <td>0.367</td>\n",
       "      <td>0.399</td>\n",
       "      <td>0:00:12.465607</td>\n",
       "      <td>modeling/models/cnn1-fixed-lr</td>\n",
       "    </tr>\n",
       "    <tr>\n",
       "      <th>2</th>\n",
       "      <td>06/05/2024 15:13:09</td>\n",
       "      <td>cnn1-scheduled-lr</td>\n",
       "      <td>0.434</td>\n",
       "      <td>0.433</td>\n",
       "      <td>0.409</td>\n",
       "      <td>0.439</td>\n",
       "      <td>0:00:20.385600</td>\n",
       "      <td>modeling/models/cnn1-scheduled-lr</td>\n",
       "    </tr>\n",
       "    <tr>\n",
       "      <th>3</th>\n",
       "      <td>06/05/2024 15:15:30</td>\n",
       "      <td>cnn1-fixed-lr</td>\n",
       "      <td>0.427</td>\n",
       "      <td>0.424</td>\n",
       "      <td>0.408</td>\n",
       "      <td>0.430</td>\n",
       "      <td>0:00:18.316497</td>\n",
       "      <td>modeling/models/cnn1-fixed-lr</td>\n",
       "    </tr>\n",
       "    <tr>\n",
       "      <th>4</th>\n",
       "      <td>06/05/2024 15:16:00</td>\n",
       "      <td>cnn1-scheduled-lr</td>\n",
       "      <td>0.353</td>\n",
       "      <td>0.343</td>\n",
       "      <td>0.327</td>\n",
       "      <td>0.364</td>\n",
       "      <td>0:00:15.915359</td>\n",
       "      <td>modeling/models/cnn1-scheduled-lr</td>\n",
       "    </tr>\n",
       "    <tr>\n",
       "      <th>5</th>\n",
       "      <td>06/05/2024 15:17:21</td>\n",
       "      <td>cnn1-fixed-lr</td>\n",
       "      <td>0.428</td>\n",
       "      <td>0.423</td>\n",
       "      <td>0.403</td>\n",
       "      <td>0.430</td>\n",
       "      <td>0:00:28.944471</td>\n",
       "      <td>modeling/models/cnn1-fixed-lr</td>\n",
       "    </tr>\n",
       "    <tr>\n",
       "      <th>6</th>\n",
       "      <td>06/05/2024 15:18:00</td>\n",
       "      <td>cnn1-fixed-lr</td>\n",
       "      <td>0.410</td>\n",
       "      <td>0.397</td>\n",
       "      <td>0.385</td>\n",
       "      <td>0.417</td>\n",
       "      <td>0:00:23.544825</td>\n",
       "      <td>modeling/models/cnn1-fixed-lr</td>\n",
       "    </tr>\n",
       "    <tr>\n",
       "      <th>7</th>\n",
       "      <td>06/05/2024 15:19:19</td>\n",
       "      <td>cnn1-fixed-lr</td>\n",
       "      <td>0.380</td>\n",
       "      <td>0.357</td>\n",
       "      <td>0.337</td>\n",
       "      <td>0.373</td>\n",
       "      <td>0:00:21.197885</td>\n",
       "      <td>modeling/models/cnn1-fixed-lr</td>\n",
       "    </tr>\n",
       "    <tr>\n",
       "      <th>8</th>\n",
       "      <td>06/05/2024 15:20:07</td>\n",
       "      <td>cnn1-fixed-lr</td>\n",
       "      <td>0.351</td>\n",
       "      <td>0.256</td>\n",
       "      <td>0.231</td>\n",
       "      <td>0.263</td>\n",
       "      <td>0:00:36.286752</td>\n",
       "      <td>modeling/models/cnn1-fixed-lr</td>\n",
       "    </tr>\n",
       "    <tr>\n",
       "      <th>9</th>\n",
       "      <td>06/05/2024 15:21:03</td>\n",
       "      <td>cnn1-fixed-lr</td>\n",
       "      <td>0.392</td>\n",
       "      <td>0.255</td>\n",
       "      <td>0.240</td>\n",
       "      <td>0.250</td>\n",
       "      <td>0:00:22.976181</td>\n",
       "      <td>modeling/models/cnn1-fixed-lr</td>\n",
       "    </tr>\n",
       "    <tr>\n",
       "      <th>10</th>\n",
       "      <td>06/05/2024 15:24:33</td>\n",
       "      <td>cnn1-fixed-lr</td>\n",
       "      <td>0.078</td>\n",
       "      <td>0.076</td>\n",
       "      <td>0.044</td>\n",
       "      <td>0.092</td>\n",
       "      <td>0:00:14.915986</td>\n",
       "      <td>modeling/models/cnn1-fixed-lr</td>\n",
       "    </tr>\n",
       "    <tr>\n",
       "      <th>11</th>\n",
       "      <td>06/05/2024 15:25:02</td>\n",
       "      <td>cnn1-fixed-lr</td>\n",
       "      <td>0.481</td>\n",
       "      <td>0.454</td>\n",
       "      <td>0.427</td>\n",
       "      <td>0.452</td>\n",
       "      <td>0:00:26.124349</td>\n",
       "      <td>modeling/models/cnn1-fixed-lr</td>\n",
       "    </tr>\n",
       "    <tr>\n",
       "      <th>12</th>\n",
       "      <td>06/05/2024 15:25:38</td>\n",
       "      <td>cnn1-scheduled-lr</td>\n",
       "      <td>0.020</td>\n",
       "      <td>0.059</td>\n",
       "      <td>0.026</td>\n",
       "      <td>0.070</td>\n",
       "      <td>0:00:12.999704</td>\n",
       "      <td>modeling/models/cnn1-scheduled-lr</td>\n",
       "    </tr>\n",
       "    <tr>\n",
       "      <th>13</th>\n",
       "      <td>06/05/2024 15:26:19</td>\n",
       "      <td>cnn1-fixed-lr</td>\n",
       "      <td>0.393</td>\n",
       "      <td>0.369</td>\n",
       "      <td>0.344</td>\n",
       "      <td>0.386</td>\n",
       "      <td>0:00:31.382547</td>\n",
       "      <td>modeling/models/cnn1-fixed-lr</td>\n",
       "    </tr>\n",
       "    <tr>\n",
       "      <th>14</th>\n",
       "      <td>06/05/2024 15:26:56</td>\n",
       "      <td>cnn1-scheduled-lr</td>\n",
       "      <td>0.007</td>\n",
       "      <td>0.036</td>\n",
       "      <td>0.011</td>\n",
       "      <td>0.035</td>\n",
       "      <td>0:00:11.491044</td>\n",
       "      <td>modeling/models/cnn1-scheduled-lr</td>\n",
       "    </tr>\n",
       "  </tbody>\n",
       "</table>\n",
       "</div>"
      ],
      "text/plain": [
       "             Start Time                       Name  Precision  Recall  \\\n",
       "0   06/05/2024 15:11:34  towards-data-science-blog      0.570   0.542   \n",
       "1   06/05/2024 15:12:51              cnn1-fixed-lr      0.367   0.395   \n",
       "2   06/05/2024 15:13:09          cnn1-scheduled-lr      0.434   0.433   \n",
       "3   06/05/2024 15:15:30              cnn1-fixed-lr      0.427   0.424   \n",
       "4   06/05/2024 15:16:00          cnn1-scheduled-lr      0.353   0.343   \n",
       "5   06/05/2024 15:17:21              cnn1-fixed-lr      0.428   0.423   \n",
       "6   06/05/2024 15:18:00              cnn1-fixed-lr      0.410   0.397   \n",
       "7   06/05/2024 15:19:19              cnn1-fixed-lr      0.380   0.357   \n",
       "8   06/05/2024 15:20:07              cnn1-fixed-lr      0.351   0.256   \n",
       "9   06/05/2024 15:21:03              cnn1-fixed-lr      0.392   0.255   \n",
       "10  06/05/2024 15:24:33              cnn1-fixed-lr      0.078   0.076   \n",
       "11  06/05/2024 15:25:02              cnn1-fixed-lr      0.481   0.454   \n",
       "12  06/05/2024 15:25:38          cnn1-scheduled-lr      0.020   0.059   \n",
       "13  06/05/2024 15:26:19              cnn1-fixed-lr      0.393   0.369   \n",
       "14  06/05/2024 15:26:56          cnn1-scheduled-lr      0.007   0.036   \n",
       "\n",
       "    F1-Score  Accuracy        Fit Time  \\\n",
       "0      0.516     0.548  0:01:06.578927   \n",
       "1      0.367     0.399  0:00:12.465607   \n",
       "2      0.409     0.439  0:00:20.385600   \n",
       "3      0.408     0.430  0:00:18.316497   \n",
       "4      0.327     0.364  0:00:15.915359   \n",
       "5      0.403     0.430  0:00:28.944471   \n",
       "6      0.385     0.417  0:00:23.544825   \n",
       "7      0.337     0.373  0:00:21.197885   \n",
       "8      0.231     0.263  0:00:36.286752   \n",
       "9      0.240     0.250  0:00:22.976181   \n",
       "10     0.044     0.092  0:00:14.915986   \n",
       "11     0.427     0.452  0:00:26.124349   \n",
       "12     0.026     0.070  0:00:12.999704   \n",
       "13     0.344     0.386  0:00:31.382547   \n",
       "14     0.011     0.035  0:00:11.491044   \n",
       "\n",
       "                             Model Save Fpath  \n",
       "0   modeling/models/towards-data-science-blog  \n",
       "1               modeling/models/cnn1-fixed-lr  \n",
       "2           modeling/models/cnn1-scheduled-lr  \n",
       "3               modeling/models/cnn1-fixed-lr  \n",
       "4           modeling/models/cnn1-scheduled-lr  \n",
       "5               modeling/models/cnn1-fixed-lr  \n",
       "6               modeling/models/cnn1-fixed-lr  \n",
       "7               modeling/models/cnn1-fixed-lr  \n",
       "8               modeling/models/cnn1-fixed-lr  \n",
       "9               modeling/models/cnn1-fixed-lr  \n",
       "10              modeling/models/cnn1-fixed-lr  \n",
       "11              modeling/models/cnn1-fixed-lr  \n",
       "12          modeling/models/cnn1-scheduled-lr  \n",
       "13              modeling/models/cnn1-fixed-lr  \n",
       "14          modeling/models/cnn1-scheduled-lr  "
      ]
     },
     "execution_count": 18,
     "metadata": {},
     "output_type": "execute_result"
    }
   ],
   "source": [
    "log_df = cf.logs.parse_log_file(FPATHS['modeling']['results_log'])"
   ]
  },
  {
   "cell_type": "code",
   "execution_count": null,
   "metadata": {},
   "outputs": [],
   "source": []
  }
 ],
 "metadata": {
  "kernelspec": {
   "display_name": "dojo-env",
   "language": "python",
   "name": "python3"
  },
  "language_info": {
   "codemirror_mode": {
    "name": "ipython",
    "version": 3
   },
   "file_extension": ".py",
   "mimetype": "text/x-python",
   "name": "python",
   "nbconvert_exporter": "python",
   "pygments_lexer": "ipython3",
   "version": "3.10.10"
  }
 },
 "nbformat": 4,
 "nbformat_minor": 2
}
